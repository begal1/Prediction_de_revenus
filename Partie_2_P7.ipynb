{
 "cells": [
  {
   "cell_type": "markdown",
   "metadata": {},
   "source": [
    "<a id='sommaire'></a>\n",
    "<h1 style='text-align:center;border:5px double;border-color:gray;'>\n",
    "    <br/>\n",
    "    PROJET 7<br/>\n",
    "    <br/>\n",
    "    \"Effectuez une prédiction de revenus\"\n",
    "    <br/>\n",
    "    <br/>\n",
    "    Partie 2: Etude de modèles<br/>\n",
    "</h1>\n"
   ]
  },
  {
   "cell_type": "code",
   "execution_count": 1,
   "metadata": {},
   "outputs": [],
   "source": [
    "#! coding:utf-8\n",
    "import pandas as pd\n",
    "import numpy as np\n",
    "import matplotlib\n",
    "import matplotlib.pyplot as plt\n",
    "import seaborn as sns\n",
    "import scipy\n",
    "import os\n",
    "import statsmodels\n",
    "import statsmodels.api as sm\n",
    "import statsmodels.formula.api as smf\n",
    "\n",
    "from statsmodels.stats.outliers_influence import variance_inflation_factor\n",
    "from scipy.stats import t, shapiro, ks_2samp\n",
    "\n",
    "os.makedirs('graphiques', exist_ok=True)\n",
    "\n",
    "plt.style.use('ggplot')"
   ]
  },
  {
   "cell_type": "code",
   "execution_count": 2,
   "metadata": {},
   "outputs": [
    {
     "name": "stdout",
     "output_type": "stream",
     "text": [
      "Pandas, version: 0.25.3\n",
      "Numpy, version: 0.25.3\n",
      "Seaborn, version: 0.9.0\n",
      "Matplotlib, version: 3.1.2\n",
      "Statsmodels, version: 0.10.2\n"
     ]
    }
   ],
   "source": [
    "print(\"Pandas, version: \" + pd.__version__)\n",
    "print(\"Numpy, version: \" + pd.__version__)\n",
    "print(\"Seaborn, version: \" + sns.__version__)\n",
    "print(\"Matplotlib, version: \" + matplotlib.__version__)\n",
    "print(\"Statsmodels, version: \" + sm.__version__)"
   ]
  },
  {
   "cell_type": "code",
   "execution_count": 3,
   "metadata": {},
   "outputs": [
    {
     "data": {
      "text/plain": [
       "'from functions2 import *'"
      ]
     },
     "execution_count": 3,
     "metadata": {},
     "output_type": "execute_result"
    }
   ],
   "source": [
    "\"\"\"from functions2 import *\"\"\""
   ]
  },
  {
   "cell_type": "markdown",
   "metadata": {},
   "source": [
    "## Créer un modèle permettant de déterminer le revenu potentiel d'une personne  \n",
    "  \n",
    "\n",
    "* Etude retrospective  \n",
    "* Variable d'intérêt (dépendante, à expliquer): 'y_child' ou 'ln_y_child'  \n",
    "* Facteur (variables indépendantes, explicatives): 'Pays', 'mj', 'ln_mj', 'Gj', 'c_i_parent'  \n",
    "  \n",
    "**Description des variable:**\n",
    "  \n",
    "**y_child**: revenu  \n",
    "**ln_y_child**: logarithme de y_child  \n",
    "**Pays**: Pays d'appartenance d'un individus  \n",
    "**mj**: revenu moyen par pays  \n",
    "**ln_mj**: logarithme de mj  \n",
    "**Gj**: Indice de Gini du pays  \n",
    "**c_i_parent**: classe de revenu des parent"
   ]
  },
  {
   "cell_type": "markdown",
   "metadata": {},
   "source": [
    "<a id='anova'></a>\n",
    "### ANOVA de la variable revenus des enfants en fonction du pays"
   ]
  },
  {
   "cell_type": "markdown",
   "metadata": {},
   "source": [
    "#### Préparation et représentation des données"
   ]
  },
  {
   "cell_type": "markdown",
   "metadata": {},
   "source": [
    "[Haut de page](#sommaire)"
   ]
  },
  {
   "cell_type": "code",
   "execution_count": 4,
   "metadata": {},
   "outputs": [
    {
     "data": {
      "text/html": [
       "<div>\n",
       "<style scoped>\n",
       "    .dataframe tbody tr th:only-of-type {\n",
       "        vertical-align: middle;\n",
       "    }\n",
       "\n",
       "    .dataframe tbody tr th {\n",
       "        vertical-align: top;\n",
       "    }\n",
       "\n",
       "    .dataframe thead th {\n",
       "        text-align: right;\n",
       "    }\n",
       "</style>\n",
       "<table border=\"1\" class=\"dataframe\">\n",
       "  <thead>\n",
       "    <tr style=\"text-align: right;\">\n",
       "      <th></th>\n",
       "      <th>Pays</th>\n",
       "      <th>y_child</th>\n",
       "      <th>Gj</th>\n",
       "      <th>pj</th>\n",
       "      <th>c_i_parent</th>\n",
       "      <th>mj</th>\n",
       "      <th>ln_y_child</th>\n",
       "      <th>ln_mj</th>\n",
       "    </tr>\n",
       "  </thead>\n",
       "  <tbody>\n",
       "    <tr>\n",
       "      <th>0</th>\n",
       "      <td>Albania</td>\n",
       "      <td>728.89795</td>\n",
       "      <td>0.32141</td>\n",
       "      <td>0.815874</td>\n",
       "      <td>1</td>\n",
       "      <td>2994.829902</td>\n",
       "      <td>6.591534</td>\n",
       "      <td>8.004643</td>\n",
       "    </tr>\n",
       "    <tr>\n",
       "      <th>1</th>\n",
       "      <td>Albania</td>\n",
       "      <td>728.89795</td>\n",
       "      <td>0.32141</td>\n",
       "      <td>0.815874</td>\n",
       "      <td>1</td>\n",
       "      <td>2994.829902</td>\n",
       "      <td>6.591534</td>\n",
       "      <td>8.004643</td>\n",
       "    </tr>\n",
       "    <tr>\n",
       "      <th>2</th>\n",
       "      <td>Albania</td>\n",
       "      <td>728.89795</td>\n",
       "      <td>0.32141</td>\n",
       "      <td>0.815874</td>\n",
       "      <td>1</td>\n",
       "      <td>2994.829902</td>\n",
       "      <td>6.591534</td>\n",
       "      <td>8.004643</td>\n",
       "    </tr>\n",
       "    <tr>\n",
       "      <th>3</th>\n",
       "      <td>Albania</td>\n",
       "      <td>728.89795</td>\n",
       "      <td>0.32141</td>\n",
       "      <td>0.815874</td>\n",
       "      <td>1</td>\n",
       "      <td>2994.829902</td>\n",
       "      <td>6.591534</td>\n",
       "      <td>8.004643</td>\n",
       "    </tr>\n",
       "    <tr>\n",
       "      <th>4</th>\n",
       "      <td>Albania</td>\n",
       "      <td>728.89795</td>\n",
       "      <td>0.32141</td>\n",
       "      <td>0.815874</td>\n",
       "      <td>1</td>\n",
       "      <td>2994.829902</td>\n",
       "      <td>6.591534</td>\n",
       "      <td>8.004643</td>\n",
       "    </tr>\n",
       "  </tbody>\n",
       "</table>\n",
       "</div>"
      ],
      "text/plain": [
       "      Pays    y_child       Gj        pj  c_i_parent           mj  ln_y_child  \\\n",
       "0  Albania  728.89795  0.32141  0.815874           1  2994.829902    6.591534   \n",
       "1  Albania  728.89795  0.32141  0.815874           1  2994.829902    6.591534   \n",
       "2  Albania  728.89795  0.32141  0.815874           1  2994.829902    6.591534   \n",
       "3  Albania  728.89795  0.32141  0.815874           1  2994.829902    6.591534   \n",
       "4  Albania  728.89795  0.32141  0.815874           1  2994.829902    6.591534   \n",
       "\n",
       "      ln_mj  \n",
       "0  8.004643  \n",
       "1  8.004643  \n",
       "2  8.004643  \n",
       "3  8.004643  \n",
       "4  8.004643  "
      ]
     },
     "execution_count": 4,
     "metadata": {},
     "output_type": "execute_result"
    }
   ],
   "source": [
    "# Chargement des données\n",
    "ready_db1 = pd.read_csv('data/analyse.csv')\n",
    "\n",
    "ready_db1.head()"
   ]
  },
  {
   "cell_type": "code",
   "execution_count": 5,
   "metadata": {},
   "outputs": [
    {
     "data": {
      "text/html": [
       "<div>\n",
       "<style scoped>\n",
       "    .dataframe tbody tr th:only-of-type {\n",
       "        vertical-align: middle;\n",
       "    }\n",
       "\n",
       "    .dataframe tbody tr th {\n",
       "        vertical-align: top;\n",
       "    }\n",
       "\n",
       "    .dataframe thead th {\n",
       "        text-align: right;\n",
       "    }\n",
       "</style>\n",
       "<table border=\"1\" class=\"dataframe\">\n",
       "  <thead>\n",
       "    <tr style=\"text-align: right;\">\n",
       "      <th></th>\n",
       "      <th>Pays</th>\n",
       "      <th>y_child</th>\n",
       "      <th>mj</th>\n",
       "      <th>Gj</th>\n",
       "      <th>pj</th>\n",
       "      <th>ln_mj</th>\n",
       "      <th>ln_y_child</th>\n",
       "    </tr>\n",
       "  </thead>\n",
       "  <tbody>\n",
       "    <tr>\n",
       "      <th>11595</th>\n",
       "      <td>Yemen</td>\n",
       "      <td>2568.6511</td>\n",
       "      <td>1042.63587</td>\n",
       "      <td>0.390259</td>\n",
       "      <td>0.916461</td>\n",
       "      <td>6.949507</td>\n",
       "      <td>7.851136</td>\n",
       "    </tr>\n",
       "    <tr>\n",
       "      <th>11596</th>\n",
       "      <td>Yemen</td>\n",
       "      <td>2893.9040</td>\n",
       "      <td>1042.63587</td>\n",
       "      <td>0.390259</td>\n",
       "      <td>0.916461</td>\n",
       "      <td>6.949507</td>\n",
       "      <td>7.970362</td>\n",
       "    </tr>\n",
       "    <tr>\n",
       "      <th>11597</th>\n",
       "      <td>Yemen</td>\n",
       "      <td>3307.2722</td>\n",
       "      <td>1042.63587</td>\n",
       "      <td>0.390259</td>\n",
       "      <td>0.916461</td>\n",
       "      <td>6.949507</td>\n",
       "      <td>8.103879</td>\n",
       "    </tr>\n",
       "    <tr>\n",
       "      <th>11598</th>\n",
       "      <td>Yemen</td>\n",
       "      <td>4137.0264</td>\n",
       "      <td>1042.63587</td>\n",
       "      <td>0.390259</td>\n",
       "      <td>0.916461</td>\n",
       "      <td>6.949507</td>\n",
       "      <td>8.327733</td>\n",
       "    </tr>\n",
       "    <tr>\n",
       "      <th>11599</th>\n",
       "      <td>Yemen</td>\n",
       "      <td>9050.4375</td>\n",
       "      <td>1042.63587</td>\n",
       "      <td>0.390259</td>\n",
       "      <td>0.916461</td>\n",
       "      <td>6.949507</td>\n",
       "      <td>9.110568</td>\n",
       "    </tr>\n",
       "  </tbody>\n",
       "</table>\n",
       "</div>"
      ],
      "text/plain": [
       "        Pays    y_child          mj        Gj        pj     ln_mj  ln_y_child\n",
       "11595  Yemen  2568.6511  1042.63587  0.390259  0.916461  6.949507    7.851136\n",
       "11596  Yemen  2893.9040  1042.63587  0.390259  0.916461  6.949507    7.970362\n",
       "11597  Yemen  3307.2722  1042.63587  0.390259  0.916461  6.949507    8.103879\n",
       "11598  Yemen  4137.0264  1042.63587  0.390259  0.916461  6.949507    8.327733\n",
       "11599  Yemen  9050.4375  1042.63587  0.390259  0.916461  6.949507    9.110568"
      ]
     },
     "execution_count": 5,
     "metadata": {},
     "output_type": "execute_result"
    }
   ],
   "source": [
    "# Agrégation pour gagner en temps de calculs\n",
    "ready_db2 = ready_db1.groupby(by=['Pays',\n",
    "                                  'y_child',\n",
    "                                  'mj',\n",
    "                                  'Gj',\n",
    "                                  'pj',\n",
    "                                  'ln_mj',\n",
    "                                  'ln_y_child']).mean()\n",
    "ready_db2.reset_index(inplace=True)\n",
    "ready_db2.drop(columns=['c_i_parent'], inplace=True)\n",
    "\n",
    "ready_db2.tail()"
   ]
  },
  {
   "cell_type": "code",
   "execution_count": 6,
   "metadata": {},
   "outputs": [
    {
     "data": {
      "text/plain": [
       "((5800000, 8), (11600, 7))"
      ]
     },
     "execution_count": 6,
     "metadata": {},
     "output_type": "execute_result"
    }
   ],
   "source": [
    "ready_db1.shape, ready_db2.shape"
   ]
  },
  {
   "cell_type": "markdown",
   "metadata": {},
   "source": [
    "**Pour l'ensemble des tests, notre niveau de test sera:**\n",
    "alpha = 0.05"
   ]
  },
  {
   "cell_type": "markdown",
   "metadata": {},
   "source": [
    "#### Le pays d'origine a-t-il une influence sur le revenu?"
   ]
  },
  {
   "cell_type": "markdown",
   "metadata": {},
   "source": [
    "**H0: Tous les pays ont le même revenu (tous les ${\\alpha_i}$ sont nuls)**  \n",
    "Le pays n'a pas d'influence sur le revenu enfant moyen  \n",
    "  \n",
    "**H1: Les revenus dépendent du pays (les ${\\alpha_i}$ sont différents de 0)**  \n",
    "Le pays a une influence sur le revenu"
   ]
  },
  {
   "cell_type": "code",
   "execution_count": 7,
   "metadata": {},
   "outputs": [
    {
     "data": {
      "image/png": "[encoded data removed]",
      "text/plain": [
       "<Figure size 1080x1080 with 1 Axes>"
      ]
     },
     "metadata": {},
     "output_type": "display_data"
    }
   ],
   "source": [
    "# Affichage des pays suivis\n",
    "ready_db3 = ready_db2.loc[(ready_db2['Pays'] == 'France') | (ready_db2['Pays'] == 'Congo Democratic Republic of the') |\n",
    "                          (ready_db2['Pays'] == 'Viet Nam') | (ready_db2['Pays'] == 'Chile') |\n",
    "                          (ready_db2['Pays'] == 'Iceland') | (ready_db2['Pays'] == 'Paraguay')]\n",
    "\n",
    "plt.figure(figsize=(15,15))\n",
    "\n",
    "ax = sns.boxplot(x='Pays', y='y_child', data=ready_db3)\n",
    "\n",
    "plt.ylabel('Revenu', fontsize=18)\n",
    "plt.yticks(fontsize=16)\n",
    "plt.xlabel('')\n",
    "plt.xticks(fontsize=16)\n",
    "plt.title('Revenus en fonction des pays\\nBoxplot', fontsize=22)\n",
    "\n",
    "plt.tight_layout()\n",
    "\n",
    "plt.savefig('graphiques/Revenus_en_fonction_des_pays_Boxplot.png')\n",
    "plt.show()"
   ]
  },
  {
   "cell_type": "code",
   "execution_count": 8,
   "metadata": {
    "scrolled": false
   },
   "outputs": [
    {
     "data": {
      "text/html": [
       "<table class=\"simpletable\">\n",
       "<caption>OLS Regression Results</caption>\n",
       "<tr>\n",
       "  <th>Dep. Variable:</th>         <td>y_child</td>     <th>  R-squared:         </th>  <td>   0.496</td>  \n",
       "</tr>\n",
       "<tr>\n",
       "  <th>Model:</th>                   <td>OLS</td>       <th>  Adj. R-squared:    </th>  <td>   0.491</td>  \n",
       "</tr>\n",
       "<tr>\n",
       "  <th>Method:</th>             <td>Least Squares</td>  <th>  F-statistic:       </th>  <td>   98.43</td>  \n",
       "</tr>\n",
       "<tr>\n",
       "  <th>Date:</th>             <td>Fri, 17 Jan 2020</td> <th>  Prob (F-statistic):</th>   <td>  0.00</td>   \n",
       "</tr>\n",
       "<tr>\n",
       "  <th>Time:</th>                 <td>16:41:22</td>     <th>  Log-Likelihood:    </th> <td>-1.1862e+05</td>\n",
       "</tr>\n",
       "<tr>\n",
       "  <th>No. Observations:</th>      <td> 11600</td>      <th>  AIC:               </th>  <td>2.375e+05</td> \n",
       "</tr>\n",
       "<tr>\n",
       "  <th>Df Residuals:</th>          <td> 11484</td>      <th>  BIC:               </th>  <td>2.383e+05</td> \n",
       "</tr>\n",
       "<tr>\n",
       "  <th>Df Model:</th>              <td>   115</td>      <th>                     </th>      <td> </td>     \n",
       "</tr>\n",
       "<tr>\n",
       "  <th>Covariance Type:</th>      <td>nonrobust</td>    <th>                     </th>      <td> </td>     \n",
       "</tr>\n",
       "</table>"
      ],
      "text/plain": [
       "<class 'statsmodels.iolib.table.SimpleTable'>"
      ]
     },
     "execution_count": 8,
     "metadata": {},
     "output_type": "execute_result"
    }
   ],
   "source": [
    "# Réalisation de l'ANOVA\n",
    "#Plan d'expérience complet et équilibré car  n_1 = ... = n_i = 100\n",
    "alpha = 0.05\n",
    "\n",
    "anova_pays = smf.ols('y_child~Pays', data=ready_db2).fit(alpha=alpha)\n",
    "\n",
    "anova_pays.summary().tables[0]"
   ]
  },
  {
   "cell_type": "markdown",
   "metadata": {},
   "source": [
    "R<sup>2</sup> = 0.496  \n",
    "R<sup>2</sup><sub>ajusté</sub> = 0.491  \n",
    "La variable pays explique près de 50% de la variance du revenu  \n",
    "Les autres facteurs non considérés dans le modèle expliquent l'autre moitié de la variance du revenu"
   ]
  },
  {
   "cell_type": "code",
   "execution_count": 9,
   "metadata": {},
   "outputs": [
    {
     "data": {
      "text/html": [
       "<div>\n",
       "<style scoped>\n",
       "    .dataframe tbody tr th:only-of-type {\n",
       "        vertical-align: middle;\n",
       "    }\n",
       "\n",
       "    .dataframe tbody tr th {\n",
       "        vertical-align: top;\n",
       "    }\n",
       "\n",
       "    .dataframe thead th {\n",
       "        text-align: right;\n",
       "    }\n",
       "</style>\n",
       "<table border=\"1\" class=\"dataframe\">\n",
       "  <thead>\n",
       "    <tr style=\"text-align: right;\">\n",
       "      <th></th>\n",
       "      <th>df</th>\n",
       "      <th>sum_sq</th>\n",
       "      <th>mean_sq</th>\n",
       "      <th>F</th>\n",
       "      <th>PR(&gt;F)</th>\n",
       "    </tr>\n",
       "  </thead>\n",
       "  <tbody>\n",
       "    <tr>\n",
       "      <th>Pays</th>\n",
       "      <td>115.0</td>\n",
       "      <td>5.102375e+11</td>\n",
       "      <td>4.436848e+09</td>\n",
       "      <td>98.429271</td>\n",
       "      <td>0.0</td>\n",
       "    </tr>\n",
       "    <tr>\n",
       "      <th>Residual</th>\n",
       "      <td>11484.0</td>\n",
       "      <td>5.176586e+11</td>\n",
       "      <td>4.507651e+07</td>\n",
       "      <td>NaN</td>\n",
       "      <td>NaN</td>\n",
       "    </tr>\n",
       "  </tbody>\n",
       "</table>\n",
       "</div>"
      ],
      "text/plain": [
       "               df        sum_sq       mean_sq          F  PR(>F)\n",
       "Pays        115.0  5.102375e+11  4.436848e+09  98.429271     0.0\n",
       "Residual  11484.0  5.176586e+11  4.507651e+07        NaN     NaN"
      ]
     },
     "execution_count": 9,
     "metadata": {},
     "output_type": "execute_result"
    }
   ],
   "source": [
    "# Affichage des resultats du test de Fisher  (influence de la variable pays)\n",
    "test = sm.stats.anova_lm(anova_pays, typ=1)\n",
    "test"
   ]
  },
  {
   "cell_type": "markdown",
   "metadata": {},
   "source": [
    "H0: ${\\alpha_{argentine}}$ = ... = ${\\alpha_{yemen}}$ = 0 (Le pays n'a pas d'influence)  \n",
    "H1: ${\\alpha_{argentine}}$ = ... = ${\\alpha_{yemen}}$ != 0 (Le pays a une influence)  \n",
    "La p-valeur du Test de Fischer est: ~0.0  \n",
    "p-valeur <<< 0.05  \n",
    "On rejette donc l'hypothèse H0 et on conclut que le pays a une influence sur le revenu"
   ]
  },
  {
   "cell_type": "markdown",
   "metadata": {},
   "source": [
    "#### Vérification manuelle"
   ]
  },
  {
   "cell_type": "code",
   "execution_count": 10,
   "metadata": {},
   "outputs": [
    {
     "data": {
      "text/plain": [
       "(510237524303.9017, 4436848037.425232)"
      ]
     },
     "execution_count": 10,
     "metadata": {},
     "output_type": "execute_result"
    }
   ],
   "source": [
    "# Carré Moyen de l'Erreur (CME) = Somme des Carrés de l'Expliqué (SCE) / (I - 1) - variance expliquée\n",
    "# Où I est le nombre de pays\n",
    "I = 116\n",
    "SCE = test.iloc[0,1]\n",
    "CME = SCE / (I - 1)\n",
    "SCE, CME"
   ]
  },
  {
   "cell_type": "code",
   "execution_count": 11,
   "metadata": {},
   "outputs": [
    {
     "data": {
      "text/plain": [
       "(517658642063.21796, 45076510.106514975)"
      ]
     },
     "execution_count": 11,
     "metadata": {},
     "output_type": "execute_result"
    }
   ],
   "source": [
    "# CMR = Somme des Carrés de l'erreur Résiduelle (SCR) /  (I - n) - variance inexpliquée\n",
    "# Où n est la taille de l'échantillon\n",
    "n = 11600\n",
    "SCR = test.iloc[1,1]\n",
    "CMR = SCR / (n - I)\n",
    "SCR, CMR"
   ]
  },
  {
   "cell_type": "code",
   "execution_count": 12,
   "metadata": {},
   "outputs": [
    {
     "data": {
      "text/plain": [
       "98.42927118672321"
      ]
     },
     "execution_count": 12,
     "metadata": {},
     "output_type": "execute_result"
    }
   ],
   "source": [
    "# F = CME / CMR\n",
    "# Où F est la statistique du test\n",
    "F = CME / CMR\n",
    "F"
   ]
  },
  {
   "cell_type": "code",
   "execution_count": 13,
   "metadata": {},
   "outputs": [
    {
     "data": {
      "text/plain": [
       "0.49639014231099593"
      ]
     },
     "execution_count": 13,
     "metadata": {},
     "output_type": "execute_result"
    }
   ],
   "source": [
    "# R_2 = SCE/ Somme des Carrés Totales = SCE / (SCE + SCR)\n",
    "R_2 = SCE / (SCE + SCR)\n",
    "R_2"
   ]
  },
  {
   "cell_type": "code",
   "execution_count": 14,
   "metadata": {},
   "outputs": [
    {
     "data": {
      "text/plain": [
       "0.4913027310515756"
      ]
     },
     "execution_count": 14,
     "metadata": {},
     "output_type": "execute_result"
    }
   ],
   "source": [
    "# R_2_ajusté = 1 - (n/(n - p)(1-R_2))\n",
    "R_2_Aj = 1 - ((1 - R_2)*(n - 1)/(n - I -1))\n",
    "\n",
    "R_2_Aj"
   ]
  },
  {
   "cell_type": "markdown",
   "metadata": {},
   "source": [
    "#### Vérification de l'hypothèse gaussienne"
   ]
  },
  {
   "cell_type": "markdown",
   "metadata": {},
   "source": [
    "[Haut de page](#sommaire)"
   ]
  },
  {
   "cell_type": "code",
   "execution_count": 15,
   "metadata": {},
   "outputs": [
    {
     "data": {
      "image/png": "[encoded data removed]",
      "text/plain": [
       "<Figure size 720x720 with 1 Axes>"
      ]
     },
     "metadata": {},
     "output_type": "display_data"
    }
   ],
   "source": [
    "# Préparation des données\n",
    "X = anova_pays.resid\n",
    "Xbar = np.mean(X)\n",
    "Xsprime = np.std(X)\n",
    "\n",
    "#Représentation de la distribution marginale\n",
    "plt.figure(figsize=(10,10))\n",
    "\n",
    "plt.hist(X, 100, facecolor='g')\n",
    "plt.axvline(Xbar, color='r', linewidth=2)\n",
    "\n",
    "plt.title(f'Distribution marginale des residus', fontsize=22)\n",
    "plt.ylabel('Nombre',fontsize=18)\n",
    "plt.yticks(fontsize=16)\n",
    "plt.xlabel('Residus',fontsize=18)\n",
    "plt.yticks(fontsize=16)\n",
    "\n",
    "plt.tight_layout()\n",
    "\n",
    "plt.savefig('graphiques/Distribution_marginale_des_residus.png')\n",
    "plt.show()"
   ]
  },
  {
   "cell_type": "code",
   "execution_count": 16,
   "metadata": {},
   "outputs": [
    {
     "name": "stderr",
     "output_type": "stream",
     "text": [
      "/home/alainux/anaconda3/envs/Projet8/lib/python3.8/site-packages/scipy/stats/morestats.py:1676: UserWarning: p-value may not be accurate for N > 5000.\n",
      "  warnings.warn(\"p-value may not be accurate for N > 5000.\")\n"
     ]
    },
    {
     "data": {
      "text/plain": [
       "(0.56099933385849, 0.0)"
      ]
     },
     "execution_count": 16,
     "metadata": {},
     "output_type": "execute_result"
    }
   ],
   "source": [
    "# Test de normalité Shapiro-Wilk pour vérifier la répartition selon une Normale des résidus\n",
    "shapiro(X)"
   ]
  },
  {
   "cell_type": "markdown",
   "metadata": {},
   "source": [
    "Le test Shapiro-Wilk n'est pas adapté à nos données, qui sont trop nombreuses"
   ]
  },
  {
   "cell_type": "code",
   "execution_count": 17,
   "metadata": {},
   "outputs": [
    {
     "data": {
      "text/plain": [
       "Ks_2sampResult(statistic=0.24672413793103443, pvalue=4.315822718397994e-307)"
      ]
     },
     "execution_count": 17,
     "metadata": {},
     "output_type": "execute_result"
    }
   ],
   "source": [
    "# Test d'adequation à une loi (ici Normale) avec le test Kolmogorv-Smirnov\n",
    "ks_2samp(X,list(np.random.normal(Xbar, Xsprime, 11600)))"
   ]
  },
  {
   "cell_type": "markdown",
   "metadata": {},
   "source": [
    "H0: Les données suivent une loi normale  \n",
    "H1: Les données ne suivent pas une loi normale  \n",
    "p-value <<< 0.05, on rejette h0, y_child ne suit pas la loi normale(Xbar, XSprime)"
   ]
  },
  {
   "cell_type": "code",
   "execution_count": 18,
   "metadata": {},
   "outputs": [
    {
     "data": {
      "text/plain": [
       "(4207431.542160293, 0.0, 6.739339356074607, 95.32202335877405)"
      ]
     },
     "execution_count": 18,
     "metadata": {},
     "output_type": "execute_result"
    }
   ],
   "source": [
    "# Test de Jarque-Bera\n",
    "JB1, JBpv1, skw1, kurt1 = sm.stats.stattools.jarque_bera(X)\n",
    "JB1, JBpv1, skw1, kurt1"
   ]
  },
  {
   "cell_type": "markdown",
   "metadata": {},
   "source": [
    "H0: Les données suivent une loi normale  \n",
    "H1: Les données ne suivent pas une loi normale  \n",
    "JBpv ~ 0, on rejette H0, d'après le test, les données ne suivent pas une loi normale"
   ]
  },
  {
   "cell_type": "code",
   "execution_count": 19,
   "metadata": {},
   "outputs": [
    {
     "ename": "FileNotFoundError",
     "evalue": "[Errno 2] No such file or directory: 'graph/droite_henry_anova.png'",
     "output_type": "error",
     "traceback": [
      "\u001b[0;31m---------------------------------------------------------------------------\u001b[0m",
      "\u001b[0;31mFileNotFoundError\u001b[0m                         Traceback (most recent call last)",
      "\u001b[0;32m<ipython-input-19-f15f98e82940>\u001b[0m in \u001b[0;36m<module>\u001b[0;34m\u001b[0m\n\u001b[1;32m     13\u001b[0m \u001b[0mplt\u001b[0m\u001b[0;34m.\u001b[0m\u001b[0mtight_layout\u001b[0m\u001b[0;34m(\u001b[0m\u001b[0;34m)\u001b[0m\u001b[0;34m\u001b[0m\u001b[0;34m\u001b[0m\u001b[0m\n\u001b[1;32m     14\u001b[0m \u001b[0;34m\u001b[0m\u001b[0m\n\u001b[0;32m---> 15\u001b[0;31m \u001b[0mplt\u001b[0m\u001b[0;34m.\u001b[0m\u001b[0msavefig\u001b[0m\u001b[0;34m(\u001b[0m\u001b[0;34m'graph/droite_henry_anova.png'\u001b[0m\u001b[0;34m)\u001b[0m\u001b[0;34m\u001b[0m\u001b[0;34m\u001b[0m\u001b[0m\n\u001b[0m\u001b[1;32m     16\u001b[0m \u001b[0mplt\u001b[0m\u001b[0;34m.\u001b[0m\u001b[0mshow\u001b[0m\u001b[0;34m(\u001b[0m\u001b[0;34m)\u001b[0m\u001b[0;34m\u001b[0m\u001b[0;34m\u001b[0m\u001b[0m\n",
      "\u001b[0;32m~/anaconda3/envs/Projet8/lib/python3.8/site-packages/matplotlib/pyplot.py\u001b[0m in \u001b[0;36msavefig\u001b[0;34m(*args, **kwargs)\u001b[0m\n\u001b[1;32m    720\u001b[0m \u001b[0;32mdef\u001b[0m \u001b[0msavefig\u001b[0m\u001b[0;34m(\u001b[0m\u001b[0;34m*\u001b[0m\u001b[0margs\u001b[0m\u001b[0;34m,\u001b[0m \u001b[0;34m**\u001b[0m\u001b[0mkwargs\u001b[0m\u001b[0;34m)\u001b[0m\u001b[0;34m:\u001b[0m\u001b[0;34m\u001b[0m\u001b[0;34m\u001b[0m\u001b[0m\n\u001b[1;32m    721\u001b[0m     \u001b[0mfig\u001b[0m \u001b[0;34m=\u001b[0m \u001b[0mgcf\u001b[0m\u001b[0;34m(\u001b[0m\u001b[0;34m)\u001b[0m\u001b[0;34m\u001b[0m\u001b[0;34m\u001b[0m\u001b[0m\n\u001b[0;32m--> 722\u001b[0;31m     \u001b[0mres\u001b[0m \u001b[0;34m=\u001b[0m \u001b[0mfig\u001b[0m\u001b[0;34m.\u001b[0m\u001b[0msavefig\u001b[0m\u001b[0;34m(\u001b[0m\u001b[0;34m*\u001b[0m\u001b[0margs\u001b[0m\u001b[0;34m,\u001b[0m \u001b[0;34m**\u001b[0m\u001b[0mkwargs\u001b[0m\u001b[0;34m)\u001b[0m\u001b[0;34m\u001b[0m\u001b[0;34m\u001b[0m\u001b[0m\n\u001b[0m\u001b[1;32m    723\u001b[0m     \u001b[0mfig\u001b[0m\u001b[0;34m.\u001b[0m\u001b[0mcanvas\u001b[0m\u001b[0;34m.\u001b[0m\u001b[0mdraw_idle\u001b[0m\u001b[0;34m(\u001b[0m\u001b[0;34m)\u001b[0m   \u001b[0;31m# need this if 'transparent=True' to reset colors\u001b[0m\u001b[0;34m\u001b[0m\u001b[0;34m\u001b[0m\u001b[0m\n\u001b[1;32m    724\u001b[0m     \u001b[0;32mreturn\u001b[0m \u001b[0mres\u001b[0m\u001b[0;34m\u001b[0m\u001b[0;34m\u001b[0m\u001b[0m\n",
      "\u001b[0;32m~/anaconda3/envs/Projet8/lib/python3.8/site-packages/matplotlib/figure.py\u001b[0m in \u001b[0;36msavefig\u001b[0;34m(self, fname, transparent, **kwargs)\u001b[0m\n\u001b[1;32m   2178\u001b[0m             \u001b[0mself\u001b[0m\u001b[0;34m.\u001b[0m\u001b[0mpatch\u001b[0m\u001b[0;34m.\u001b[0m\u001b[0mset_visible\u001b[0m\u001b[0;34m(\u001b[0m\u001b[0mframeon\u001b[0m\u001b[0;34m)\u001b[0m\u001b[0;34m\u001b[0m\u001b[0;34m\u001b[0m\u001b[0m\n\u001b[1;32m   2179\u001b[0m \u001b[0;34m\u001b[0m\u001b[0m\n\u001b[0;32m-> 2180\u001b[0;31m         \u001b[0mself\u001b[0m\u001b[0;34m.\u001b[0m\u001b[0mcanvas\u001b[0m\u001b[0;34m.\u001b[0m\u001b[0mprint_figure\u001b[0m\u001b[0;34m(\u001b[0m\u001b[0mfname\u001b[0m\u001b[0;34m,\u001b[0m \u001b[0;34m**\u001b[0m\u001b[0mkwargs\u001b[0m\u001b[0;34m)\u001b[0m\u001b[0;34m\u001b[0m\u001b[0;34m\u001b[0m\u001b[0m\n\u001b[0m\u001b[1;32m   2181\u001b[0m \u001b[0;34m\u001b[0m\u001b[0m\n\u001b[1;32m   2182\u001b[0m         \u001b[0;32mif\u001b[0m \u001b[0mframeon\u001b[0m\u001b[0;34m:\u001b[0m\u001b[0;34m\u001b[0m\u001b[0;34m\u001b[0m\u001b[0m\n",
      "\u001b[0;32m~/anaconda3/envs/Projet8/lib/python3.8/site-packages/matplotlib/backend_bases.py\u001b[0m in \u001b[0;36mprint_figure\u001b[0;34m(self, filename, dpi, facecolor, edgecolor, orientation, format, bbox_inches, **kwargs)\u001b[0m\n\u001b[1;32m   2080\u001b[0m \u001b[0;34m\u001b[0m\u001b[0m\n\u001b[1;32m   2081\u001b[0m             \u001b[0;32mtry\u001b[0m\u001b[0;34m:\u001b[0m\u001b[0;34m\u001b[0m\u001b[0;34m\u001b[0m\u001b[0m\n\u001b[0;32m-> 2082\u001b[0;31m                 result = print_method(\n\u001b[0m\u001b[1;32m   2083\u001b[0m                     \u001b[0mfilename\u001b[0m\u001b[0;34m,\u001b[0m\u001b[0;34m\u001b[0m\u001b[0;34m\u001b[0m\u001b[0m\n\u001b[1;32m   2084\u001b[0m                     \u001b[0mdpi\u001b[0m\u001b[0;34m=\u001b[0m\u001b[0mdpi\u001b[0m\u001b[0;34m,\u001b[0m\u001b[0;34m\u001b[0m\u001b[0;34m\u001b[0m\u001b[0m\n",
      "\u001b[0;32m~/anaconda3/envs/Projet8/lib/python3.8/site-packages/matplotlib/backends/backend_agg.py\u001b[0m in \u001b[0;36mprint_png\u001b[0;34m(self, filename_or_obj, metadata, pil_kwargs, *args, **kwargs)\u001b[0m\n\u001b[1;32m    527\u001b[0m             \u001b[0mFigureCanvasAgg\u001b[0m\u001b[0;34m.\u001b[0m\u001b[0mdraw\u001b[0m\u001b[0;34m(\u001b[0m\u001b[0mself\u001b[0m\u001b[0;34m)\u001b[0m\u001b[0;34m\u001b[0m\u001b[0;34m\u001b[0m\u001b[0m\n\u001b[1;32m    528\u001b[0m             \u001b[0mrenderer\u001b[0m \u001b[0;34m=\u001b[0m \u001b[0mself\u001b[0m\u001b[0;34m.\u001b[0m\u001b[0mget_renderer\u001b[0m\u001b[0;34m(\u001b[0m\u001b[0;34m)\u001b[0m\u001b[0;34m\u001b[0m\u001b[0;34m\u001b[0m\u001b[0m\n\u001b[0;32m--> 529\u001b[0;31m             \u001b[0;32mwith\u001b[0m \u001b[0mcbook\u001b[0m\u001b[0;34m.\u001b[0m\u001b[0m_setattr_cm\u001b[0m\u001b[0;34m(\u001b[0m\u001b[0mrenderer\u001b[0m\u001b[0;34m,\u001b[0m \u001b[0mdpi\u001b[0m\u001b[0;34m=\u001b[0m\u001b[0mself\u001b[0m\u001b[0;34m.\u001b[0m\u001b[0mfigure\u001b[0m\u001b[0;34m.\u001b[0m\u001b[0mdpi\u001b[0m\u001b[0;34m)\u001b[0m\u001b[0;34m,\u001b[0m\u001b[0;31m \u001b[0m\u001b[0;31m\\\u001b[0m\u001b[0;34m\u001b[0m\u001b[0;34m\u001b[0m\u001b[0m\n\u001b[0m\u001b[1;32m    530\u001b[0m                     \u001b[0mcbook\u001b[0m\u001b[0;34m.\u001b[0m\u001b[0mopen_file_cm\u001b[0m\u001b[0;34m(\u001b[0m\u001b[0mfilename_or_obj\u001b[0m\u001b[0;34m,\u001b[0m \u001b[0;34m\"wb\"\u001b[0m\u001b[0;34m)\u001b[0m \u001b[0;32mas\u001b[0m \u001b[0mfh\u001b[0m\u001b[0;34m:\u001b[0m\u001b[0;34m\u001b[0m\u001b[0;34m\u001b[0m\u001b[0m\n\u001b[1;32m    531\u001b[0m                 _png.write_png(renderer._renderer, fh,\n",
      "\u001b[0;32m~/anaconda3/envs/Projet8/lib/python3.8/contextlib.py\u001b[0m in \u001b[0;36m__enter__\u001b[0;34m(self)\u001b[0m\n\u001b[1;32m    111\u001b[0m         \u001b[0;32mdel\u001b[0m \u001b[0mself\u001b[0m\u001b[0;34m.\u001b[0m\u001b[0margs\u001b[0m\u001b[0;34m,\u001b[0m \u001b[0mself\u001b[0m\u001b[0;34m.\u001b[0m\u001b[0mkwds\u001b[0m\u001b[0;34m,\u001b[0m \u001b[0mself\u001b[0m\u001b[0;34m.\u001b[0m\u001b[0mfunc\u001b[0m\u001b[0;34m\u001b[0m\u001b[0;34m\u001b[0m\u001b[0m\n\u001b[1;32m    112\u001b[0m         \u001b[0;32mtry\u001b[0m\u001b[0;34m:\u001b[0m\u001b[0;34m\u001b[0m\u001b[0;34m\u001b[0m\u001b[0m\n\u001b[0;32m--> 113\u001b[0;31m             \u001b[0;32mreturn\u001b[0m \u001b[0mnext\u001b[0m\u001b[0;34m(\u001b[0m\u001b[0mself\u001b[0m\u001b[0;34m.\u001b[0m\u001b[0mgen\u001b[0m\u001b[0;34m)\u001b[0m\u001b[0;34m\u001b[0m\u001b[0;34m\u001b[0m\u001b[0m\n\u001b[0m\u001b[1;32m    114\u001b[0m         \u001b[0;32mexcept\u001b[0m \u001b[0mStopIteration\u001b[0m\u001b[0;34m:\u001b[0m\u001b[0;34m\u001b[0m\u001b[0;34m\u001b[0m\u001b[0m\n\u001b[1;32m    115\u001b[0m             \u001b[0;32mraise\u001b[0m \u001b[0mRuntimeError\u001b[0m\u001b[0;34m(\u001b[0m\u001b[0;34m\"generator didn't yield\"\u001b[0m\u001b[0;34m)\u001b[0m \u001b[0;32mfrom\u001b[0m \u001b[0;32mNone\u001b[0m\u001b[0;34m\u001b[0m\u001b[0;34m\u001b[0m\u001b[0m\n",
      "\u001b[0;32m~/anaconda3/envs/Projet8/lib/python3.8/site-packages/matplotlib/cbook/__init__.py\u001b[0m in \u001b[0;36mopen_file_cm\u001b[0;34m(path_or_file, mode, encoding)\u001b[0m\n\u001b[1;32m    445\u001b[0m \u001b[0;32mdef\u001b[0m \u001b[0mopen_file_cm\u001b[0m\u001b[0;34m(\u001b[0m\u001b[0mpath_or_file\u001b[0m\u001b[0;34m,\u001b[0m \u001b[0mmode\u001b[0m\u001b[0;34m=\u001b[0m\u001b[0;34m\"r\"\u001b[0m\u001b[0;34m,\u001b[0m \u001b[0mencoding\u001b[0m\u001b[0;34m=\u001b[0m\u001b[0;32mNone\u001b[0m\u001b[0;34m)\u001b[0m\u001b[0;34m:\u001b[0m\u001b[0;34m\u001b[0m\u001b[0;34m\u001b[0m\u001b[0m\n\u001b[1;32m    446\u001b[0m     \u001b[0;34mr\"\"\"Pass through file objects and context-manage `.PathLike`\\s.\"\"\"\u001b[0m\u001b[0;34m\u001b[0m\u001b[0;34m\u001b[0m\u001b[0m\n\u001b[0;32m--> 447\u001b[0;31m     \u001b[0mfh\u001b[0m\u001b[0;34m,\u001b[0m \u001b[0mopened\u001b[0m \u001b[0;34m=\u001b[0m \u001b[0mto_filehandle\u001b[0m\u001b[0;34m(\u001b[0m\u001b[0mpath_or_file\u001b[0m\u001b[0;34m,\u001b[0m \u001b[0mmode\u001b[0m\u001b[0;34m,\u001b[0m \u001b[0;32mTrue\u001b[0m\u001b[0;34m,\u001b[0m \u001b[0mencoding\u001b[0m\u001b[0;34m)\u001b[0m\u001b[0;34m\u001b[0m\u001b[0;34m\u001b[0m\u001b[0m\n\u001b[0m\u001b[1;32m    448\u001b[0m     \u001b[0;32mif\u001b[0m \u001b[0mopened\u001b[0m\u001b[0;34m:\u001b[0m\u001b[0;34m\u001b[0m\u001b[0;34m\u001b[0m\u001b[0m\n\u001b[1;32m    449\u001b[0m         \u001b[0;32mwith\u001b[0m \u001b[0mfh\u001b[0m\u001b[0;34m:\u001b[0m\u001b[0;34m\u001b[0m\u001b[0;34m\u001b[0m\u001b[0m\n",
      "\u001b[0;32m~/anaconda3/envs/Projet8/lib/python3.8/site-packages/matplotlib/cbook/__init__.py\u001b[0m in \u001b[0;36mto_filehandle\u001b[0;34m(fname, flag, return_opened, encoding)\u001b[0m\n\u001b[1;32m    430\u001b[0m             \u001b[0mfh\u001b[0m \u001b[0;34m=\u001b[0m \u001b[0mbz2\u001b[0m\u001b[0;34m.\u001b[0m\u001b[0mBZ2File\u001b[0m\u001b[0;34m(\u001b[0m\u001b[0mfname\u001b[0m\u001b[0;34m,\u001b[0m \u001b[0mflag\u001b[0m\u001b[0;34m)\u001b[0m\u001b[0;34m\u001b[0m\u001b[0;34m\u001b[0m\u001b[0m\n\u001b[1;32m    431\u001b[0m         \u001b[0;32melse\u001b[0m\u001b[0;34m:\u001b[0m\u001b[0;34m\u001b[0m\u001b[0;34m\u001b[0m\u001b[0m\n\u001b[0;32m--> 432\u001b[0;31m             \u001b[0mfh\u001b[0m \u001b[0;34m=\u001b[0m \u001b[0mopen\u001b[0m\u001b[0;34m(\u001b[0m\u001b[0mfname\u001b[0m\u001b[0;34m,\u001b[0m \u001b[0mflag\u001b[0m\u001b[0;34m,\u001b[0m \u001b[0mencoding\u001b[0m\u001b[0;34m=\u001b[0m\u001b[0mencoding\u001b[0m\u001b[0;34m)\u001b[0m\u001b[0;34m\u001b[0m\u001b[0;34m\u001b[0m\u001b[0m\n\u001b[0m\u001b[1;32m    433\u001b[0m         \u001b[0mopened\u001b[0m \u001b[0;34m=\u001b[0m \u001b[0;32mTrue\u001b[0m\u001b[0;34m\u001b[0m\u001b[0;34m\u001b[0m\u001b[0m\n\u001b[1;32m    434\u001b[0m     \u001b[0;32melif\u001b[0m \u001b[0mhasattr\u001b[0m\u001b[0;34m(\u001b[0m\u001b[0mfname\u001b[0m\u001b[0;34m,\u001b[0m \u001b[0;34m'seek'\u001b[0m\u001b[0;34m)\u001b[0m\u001b[0;34m:\u001b[0m\u001b[0;34m\u001b[0m\u001b[0;34m\u001b[0m\u001b[0m\n",
      "\u001b[0;31mFileNotFoundError\u001b[0m: [Errno 2] No such file or directory: 'graph/droite_henry_anova.png'"
     ]
    },
    {
     "data": {
      "image/png": "[encoded data removed]",
      "text/plain": [
       "<Figure size 1080x1080 with 1 Axes>"
      ]
     },
     "metadata": {},
     "output_type": "display_data"
    }
   ],
   "source": [
    "# Droite de Henry\n",
    "# permet de visualiser l'écart à une loi Normale\n",
    "fig, ax = plt.subplots(figsize=(15, 15))\n",
    "\n",
    "sm.qqplot(X, line='45', fit=True, ax=ax)\n",
    "\n",
    "plt.ylabel('Quantiles de notre échantillon', fontsize=18)\n",
    "plt.yticks(fontsize=16)\n",
    "plt.xlabel('Quantiles d\\'une loi Normale',fontsize=18)\n",
    "plt.xticks(fontsize=16)\n",
    "plt.title('Droite de Henry', fontsize=22)\n",
    "\n",
    "plt.tight_layout()\n",
    "\n",
    "plt.savefig('graph/droite_henry_anova.png')\n",
    "plt.show()"
   ]
  },
  {
   "cell_type": "markdown",
   "metadata": {},
   "source": [
    "**Conclusion:**\n",
    "Bien que les tests nous invitent à rejeter l'hypothèse gaussiene (répartition selon une loi Normale des résidus), la robustesse d'une ANOVA sur des échantillons de grande taille, nous permet d'accepter tout de même le résultat."
   ]
  },
  {
   "cell_type": "markdown",
   "metadata": {},
   "source": [
    "<a id='reg1'></a>\n",
    "### Régression linéaire du revenu enfant sur le revenu moyen du pays et l'indice de Gini"
   ]
  },
  {
   "cell_type": "markdown",
   "metadata": {},
   "source": [
    "#### Tests de significativité"
   ]
  },
  {
   "cell_type": "markdown",
   "metadata": {},
   "source": [
    "[Haut de page](#sommaire)"
   ]
  },
  {
   "cell_type": "code",
   "execution_count": null,
   "metadata": {},
   "outputs": [],
   "source": [
    "reg = smf.ols('y_child ~ Gj + mj', data=ready_db2)\n",
    "reg_multi = reg.fit()\n",
    "reg_multi.summary().tables[0]"
   ]
  },
  {
   "cell_type": "markdown",
   "metadata": {},
   "source": [
    "**Test global:**  \n",
    "H0: ${\\beta_{GJ}}$ = ${\\beta_{ymj}}$ = 0  \n",
    "H1: ${\\beta_{GJ}}$ = ${\\beta_{ymj}}$ != 0  \n",
    "F ~ 0.00 <<< ${\\alpha}$, on rejette H0, le modèle est globalement significatif"
   ]
  },
  {
   "cell_type": "code",
   "execution_count": null,
   "metadata": {},
   "outputs": [],
   "source": [
    "reg_multi.summary().tables[1]"
   ]
  },
  {
   "cell_type": "markdown",
   "metadata": {},
   "source": [
    " **Test de significativité des variables:**\n",
    "   \n",
    "H0: ${\\beta_{GJ}}$ = 0  \n",
    "H1: ${\\beta_{GJ}}$ != 0  \n",
    "Le paramètre ${\\beta_{GJ}}$ de la variable Gj (indice de gini) n'est pas significatif au niveau de test alpha (0.05)  \n",
    "En effet p-value ~ 1 > ${\\alpha}$, on accepte H0, le paramètre n'est pas significatif (${\\beta_{GJ}}$ = 0)  \n",
    "  \n",
    "H0: ${\\beta_{ymj}}$ = 0  \n",
    "H1: ${\\beta_{ymj}}$ != 0  \n",
    "Le paramètre ${\\beta_{ymj}}$ de la variable mj est significatif au niveau de test ${\\alpha}$ (0.05)  \n",
    "En effet p-value ~ 0.00 <<< ${\\alpha}$, on rejette H0, le paramètre est significatif (${\\beta_{ymj}}$ != 0)"
   ]
  },
  {
   "cell_type": "markdown",
   "metadata": {},
   "source": [
    "#### Passage au logarithme du revenu enfant"
   ]
  },
  {
   "cell_type": "markdown",
   "metadata": {},
   "source": [
    "[Haut de page](#sommaire)"
   ]
  },
  {
   "cell_type": "code",
   "execution_count": null,
   "metadata": {
    "scrolled": false
   },
   "outputs": [],
   "source": [
    "reg_ln = smf.ols('ln_y_child ~ Gj + ln_mj', data=ready_db2)\n",
    "reg_multi_ln = reg_ln.fit()\n",
    "\n",
    "reg_multi_ln.summary().tables[0]"
   ]
  },
  {
   "cell_type": "markdown",
   "metadata": {},
   "source": [
    "**Test global:**  \n",
    "H0: ${\\beta_{GJ}}$ = ${\\beta_{ln_mj}}$ = 0  \n",
    "H1: ${\\beta_{GJ}}$ != ${\\beta_{ln_mj}}$ != 0  \n",
    "F ~ 0.00 <<< ${\\alpha}$, on rejette H0, le modèle est globalement significatif  "
   ]
  },
  {
   "cell_type": "code",
   "execution_count": null,
   "metadata": {},
   "outputs": [],
   "source": [
    "reg_multi_ln.summary().tables[1]"
   ]
  },
  {
   "cell_type": "markdown",
   "metadata": {},
   "source": [
    " **Test de significativité:**\n",
    "   \n",
    "H0: ${\\beta_{GJ}}$ = 0  \n",
    "H1: ${\\beta_{GJ}}$ != 0  \n",
    "Le paramètre ${\\beta_{GJ}}$ de la variable Gj (indice de gini) est significatif au niveau de test ${\\alpha}$ (0.05)  \n",
    "En effet p-value ~ 0.00 <<< ${\\alpha}$, on rejette H0, le paramètre est significatif (${\\beta_{GJ}}$ != 0)  \n",
    "  \n",
    "H0: ${\\beta_{ln_mj}}$ = 0  \n",
    "H1: ${\\beta_{ln_mj}}$ != 0  \n",
    "Le paramètre ${\\beta_{ln_mj}}$ de la variable ln_mj est significatif au niveau de test ${\\alpha}$ (0.05)  \n",
    "En effet p-value ~ 0.00 <<< ${\\alpha}$, on rejette H0, le paramètre est significatif (${\\beta_{ln_mj}}$ != 0)"
   ]
  },
  {
   "cell_type": "markdown",
   "metadata": {},
   "source": [
    "#### Analyses de $R^2$"
   ]
  },
  {
   "cell_type": "markdown",
   "metadata": {},
   "source": [
    "[Haut de page](#sommaire)"
   ]
  },
  {
   "cell_type": "code",
   "execution_count": null,
   "metadata": {},
   "outputs": [],
   "source": [
    "# Anova sur les variables de notre régression linéaire\n",
    "anova_ln = sm.stats.anova_lm(reg_multi_ln, typ=1)\n",
    "anova_ln"
   ]
  },
  {
   "cell_type": "code",
   "execution_count": null,
   "metadata": {},
   "outputs": [],
   "source": [
    "# Calcul du R2 pour la variable 'Gj'\n",
    "r2_Gj = anova_ln.sum_sq['Gj'] / anova_ln['sum_sq'].sum()\n",
    "r2_Gj"
   ]
  },
  {
   "cell_type": "code",
   "execution_count": null,
   "metadata": {},
   "outputs": [],
   "source": [
    "# Calcul du R2 pour la variable 'ln_y_child'\n",
    "r2_ln_mj = anova_ln.sum_sq['ln_mj'] / anova_ln['sum_sq'].sum()\n",
    "r2_ln_mj"
   ]
  },
  {
   "cell_type": "code",
   "execution_count": null,
   "metadata": {},
   "outputs": [],
   "source": [
    "# Vérification\n",
    "r2_Gj + r2_ln_mj, reg_multi_ln.rsquared"
   ]
  },
  {
   "cell_type": "code",
   "execution_count": null,
   "metadata": {},
   "outputs": [],
   "source": [
    "print(f'Dans notre modèle:\\n\\n\\\n",
    "La variable \\'Gj\\' explique {100 * r2_Gj:.2f}% de la variance de la variable \\'ln_y_child\\'\\n\\n\\\n",
    "La variable \\'ln_mj\\' explique {100 * r2_ln_mj:.2f}% de la variance de la variable \\'ln_y_child\\'\\n\\n\\\n",
    "Notre modèle explique {100 * reg_multi_ln.rsquared:.2f}% de la variance de la variable \\'ln_y_child\\'')"
   ]
  },
  {
   "cell_type": "markdown",
   "metadata": {},
   "source": [
    "#### Analyse de l'atypicité sur les variables explicatives"
   ]
  },
  {
   "cell_type": "markdown",
   "metadata": {},
   "source": [
    "Lorsque l'on réalise une régression, il convient d'étudier l'atypicité sur les variables explicatives.  \n",
    "\n",
    "- Etude des leviers: les échantillons qui sont 'loin' de la majeure partie des autres individus de l'échantillon  \n",
    "- Etude des résidus studentisés internes: Les points mal reconstitués par le modèle  "
   ]
  },
  {
   "cell_type": "markdown",
   "metadata": {},
   "source": [
    "##### Les leviers"
   ]
  },
  {
   "cell_type": "markdown",
   "metadata": {},
   "source": [
    "[Haut de page](#sommaire)"
   ]
  },
  {
   "cell_type": "code",
   "execution_count": null,
   "metadata": {},
   "outputs": [],
   "source": [
    "# Paramètres de l'étude\n",
    "n = ready_db2.shape[0]\n",
    "p = 3\n",
    "\n",
    "# Seuil levier selon Belsey\n",
    "seuil_levier = 2 * p / n"
   ]
  },
  {
   "cell_type": "code",
   "execution_count": null,
   "metadata": {},
   "outputs": [],
   "source": [
    "# Ajout des termes diagonaux de H\n",
    "ready_db2['levier'] = reg_multi_ln.get_influence().hat_matrix_diag\n",
    "\n",
    "ready_db2.sort_values(by='levier', ascending=False).head()"
   ]
  },
  {
   "cell_type": "code",
   "execution_count": null,
   "metadata": {},
   "outputs": [],
   "source": [
    "ready_db2.sort_values(by='levier').head()"
   ]
  },
  {
   "cell_type": "code",
   "execution_count": null,
   "metadata": {},
   "outputs": [],
   "source": [
    "ready_db4 = ready_db2.groupby(['Pays', 'mj', 'Gj', 'pj', 'ln_mj']).mean()\n",
    "ready_db4.reset_index(inplace=True)\n",
    "\n",
    "# Représentation des leviers\n",
    "plt.figure(figsize=(15,15))\n",
    "\n",
    "# Individus sous le seuil\n",
    "plt.bar(ready_db4.loc[ready_db4['levier'] <= seuil_levier]['Pays'],\n",
    "        ready_db4.loc[ready_db4['levier'] <= seuil_levier]['levier'], color='g')\n",
    "\n",
    "# Individus au dessus du seuil\n",
    "plt.bar(ready_db4.loc[ready_db4['levier'] > seuil_levier]['Pays'],\n",
    "        ready_db4.loc[ready_db4['levier'] > seuil_levier]['levier'], color='r')\n",
    "\n",
    "# Décoration et annotations\n",
    "plt.title('Représentation des leviers', fontsize=22)\n",
    "plt.xlabel('Pays', fontsize=18)\n",
    "plt.xticks('', fontsize=16)\n",
    "plt.ylabel('Leviers', fontsize=18)\n",
    "plt.yticks(fontsize=16)\n",
    "plt.axhline(y=seuil_levier, color='b', linestyle='-')\n",
    "plt.text(50, 0.000525 , 'Seuil levier', fontsize = '14', color='b')\n",
    "plt.tight_layout()\n",
    "\n",
    "plt.savefig('graphiques/Representation_des_leviers.png')\n",
    "plt.show()"
   ]
  },
  {
   "cell_type": "code",
   "execution_count": null,
   "metadata": {},
   "outputs": [],
   "source": [
    "# Nombre de valeurs atypiques sur les variables explicatives\n",
    "lev_ln = ready_db2.loc[ready_db2['levier'] > seuil_levier, :]\n",
    "len(lev_ln)"
   ]
  },
  {
   "cell_type": "code",
   "execution_count": null,
   "metadata": {},
   "outputs": [],
   "source": [
    "# Pays presentants des valeurs atypiques\n",
    "ready_db4.loc[ready_db4['levier'] > seuil_levier]"
   ]
  },
  {
   "cell_type": "code",
   "execution_count": null,
   "metadata": {},
   "outputs": [],
   "source": [
    "ready_db4.sort_values(by='levier', ascending=False).head()"
   ]
  },
  {
   "cell_type": "markdown",
   "metadata": {},
   "source": [
    "##### Analyse de l'atypicité sur la variable à expliquer (residus studentisés)"
   ]
  },
  {
   "cell_type": "markdown",
   "metadata": {},
   "source": [
    "[Haut de page](#sommaire)"
   ]
  },
  {
   "cell_type": "code",
   "execution_count": null,
   "metadata": {},
   "outputs": [],
   "source": [
    "# Détermination du seuil statistique d'atypicité\n",
    "seuil_rstudent = t.ppf(1-alpha/2,n-p-1)\n",
    "seuil_rstudent"
   ]
  },
  {
   "cell_type": "code",
   "execution_count": null,
   "metadata": {},
   "outputs": [],
   "source": [
    "# statistique de test par observation\n",
    "ready_db2['rstudent'] = reg_multi_ln.get_influence().resid_studentized_internal\n",
    "ready_db2.sort_values(by='rstudent').head()"
   ]
  },
  {
   "cell_type": "code",
   "execution_count": null,
   "metadata": {},
   "outputs": [],
   "source": [
    "ready_db2.sort_values(by='rstudent').tail()"
   ]
  },
  {
   "cell_type": "code",
   "execution_count": null,
   "metadata": {},
   "outputs": [],
   "source": [
    "ready_db5 = ready_db2.groupby(['Pays', 'mj', 'Gj', 'pj', 'ln_mj', 'rstudent']).mean()\n",
    "ready_db5.reset_index(inplace=True)\n",
    "\n",
    "# Représentation des leviers\n",
    "plt.figure(figsize=(15,15))\n",
    "\n",
    "# Individus entre le seuil mini et le seuil maxi\n",
    "plt.bar(ready_db5.loc[(ready_db5['rstudent'] <= seuil_rstudent) & (ready_db5['rstudent'] >= -seuil_rstudent)].index,\n",
    "        ready_db5.loc[(ready_db5['rstudent'] <= seuil_rstudent) & (ready_db5['rstudent'] >= -seuil_rstudent)]['rstudent'], color='g')\n",
    "\n",
    "# Individus au dessus du seuil maxi\n",
    "plt.bar(ready_db5.loc[ready_db5['rstudent'] > seuil_rstudent].index,\n",
    "        ready_db5.loc[ready_db5['rstudent'] > seuil_rstudent]['rstudent'], color='r')\n",
    "\n",
    "# Individus au dessous du seuil maxi\n",
    "plt.bar(ready_db5.loc[ready_db5['rstudent'] < -seuil_rstudent].index,\n",
    "        ready_db5.loc[ready_db5['rstudent'] < -seuil_rstudent]['rstudent'], color='r')\n",
    "\n",
    "# Décoration et annotations\n",
    "plt.title('Représentation des résidus studentisés', fontsize=22)\n",
    "plt.xlabel('Pays', fontsize=18)\n",
    "plt.xticks(fontsize=16)\n",
    "plt.ylim(-10,10)\n",
    "plt.ylabel('Résidus studentisés', fontsize=18)\n",
    "plt.yticks(fontsize=16)\n",
    "\n",
    "plt.axhline(y=seuil_rstudent, color='b', linestyle='-')\n",
    "plt.text(5_000, 2.5 , 'Seuil rstudent', fontsize = '18', color='b')\n",
    "\n",
    "plt.axhline(y=-seuil_rstudent, color='b', linestyle='-')\n",
    "plt.text(5_000, -2.5 , '-Seuil rstudent', fontsize = '18', color='b')\n",
    "\n",
    "plt.tight_layout()\n",
    "\n",
    "plt.savefig('graphiques/Representation_des_résidus_studentises.png', dpi=300)\n",
    "plt.show()"
   ]
  },
  {
   "cell_type": "code",
   "execution_count": null,
   "metadata": {},
   "outputs": [],
   "source": [
    "ready_db_saf = ready_db5.loc[(ready_db5['Pays'] == 'South Africa')]\n",
    "\n",
    "# Représentation des leviers\n",
    "plt.figure(figsize=(15,15))\n",
    "\n",
    "# Individus entre le seuil mini et le seuil maxi\n",
    "plt.bar(ready_db_saf.loc[(ready_db_saf['rstudent'] <= seuil_rstudent) & (ready_db_saf['rstudent'] >= -seuil_rstudent)].index,\n",
    "        ready_db_saf.loc[(ready_db_saf['rstudent'] <= seuil_rstudent) & (ready_db_saf['rstudent'] >= -seuil_rstudent)]['rstudent'], color='g')\n",
    "\n",
    "# Individus au dessus du seuil maxi\n",
    "plt.bar(ready_db_saf.loc[ready_db_saf['rstudent'] > seuil_rstudent].index,\n",
    "        ready_db_saf.loc[ready_db_saf['rstudent'] > seuil_rstudent]['rstudent'], color='r')\n",
    "\n",
    "# Individus au dessous du seuil maxi\n",
    "plt.bar(ready_db_saf.loc[ready_db_saf['rstudent'] < -seuil_rstudent].index,\n",
    "        ready_db_saf.loc[ready_db_saf['rstudent'] < -seuil_rstudent]['rstudent'], color='r')\n",
    "\n",
    "# Décoration et annotations\n",
    "plt.title('Représentation des résidus studentisés\\nAfrique du Sud', fontsize=22)\n",
    "plt.xlabel('Classes parents', fontsize=18)\n",
    "plt.xticks(fontsize=16)\n",
    "plt.ylim(-10,10)\n",
    "plt.yticks(fontsize=16)\n",
    "plt.ylabel('Résidus studentisés', fontsize=18)\n",
    "\n",
    "plt.axhline(y=seuil_rstudent, color='b', linestyle='-')\n",
    "plt.text(9550, 2.5 , 'Seuil rstudent', fontsize = '18', color='b')\n",
    "\n",
    "plt.axhline(y=-seuil_rstudent, color='b', linestyle='-')\n",
    "plt.text(9550, -2.5 , '-Seuil rstudent', fontsize = '18', color='b')\n",
    "\n",
    "plt.tight_layout()\n",
    "\n",
    "plt.savefig('graphiques/Representation_des_residus_studentises_Afrique_du_Sud.png')\n",
    "plt.show()"
   ]
  },
  {
   "cell_type": "code",
   "execution_count": null,
   "metadata": {},
   "outputs": [],
   "source": [
    "ready_db_hon = ready_db5.loc[(ready_db5['Pays'] == 'Honduras')]\n",
    "\n",
    "# Représentation des leviers\n",
    "plt.figure(figsize=(15,15))\n",
    "\n",
    "# Individus entre le seuil mini et le seuil maxi\n",
    "plt.bar(ready_db_hon.loc[(ready_db_hon['rstudent'] <= seuil_rstudent) & (ready_db_hon['rstudent'] >= -seuil_rstudent)].index,\n",
    "        ready_db_hon.loc[(ready_db_hon['rstudent'] <= seuil_rstudent) & (ready_db_hon['rstudent'] >= -seuil_rstudent)]['rstudent'], color='g')\n",
    "\n",
    "# Individus au dessus du seuil maxi\n",
    "plt.bar(ready_db_hon.loc[ready_db_hon['rstudent'] > seuil_rstudent].index,\n",
    "        ready_db_hon.loc[ready_db_hon['rstudent'] > seuil_rstudent]['rstudent'], color='r')\n",
    "\n",
    "# Individus au dessous du seuil maxi\n",
    "plt.bar(ready_db_hon.loc[ready_db_hon['rstudent'] < -seuil_rstudent].index,\n",
    "        ready_db_hon.loc[ready_db_hon['rstudent'] < -seuil_rstudent]['rstudent'], color='r')\n",
    "\n",
    "# Décoration et annotations\n",
    "plt.title('Représentation des résidus studentisés\\npour le Honduras', fontsize=22)\n",
    "plt.xlabel('Classes parents', fontsize=18)\n",
    "plt.xticks(fontsize=16)\n",
    "plt.ylim(-10,10)\n",
    "plt.yticks(fontsize=16)\n",
    "plt.ylabel('Résidus studentisés', fontsize=18)\n",
    "\n",
    "plt.axhline(y=seuil_rstudent, color='b', linestyle='-')\n",
    "plt.text(4250, 2.5 , 'Seuil rstudent', fontsize = '18', color='b')\n",
    "\n",
    "plt.axhline(y=-seuil_rstudent, color='b', linestyle='-')\n",
    "plt.text(4250, -2.5 , '-Seuil rstudent', fontsize = '18', color='b')\n",
    "\n",
    "plt.tight_layout()\n",
    "\n",
    "plt.savefig('graphiques/Representation_des_residus_studentises_pour_le_Honduras.png')\n",
    "plt.show()"
   ]
  },
  {
   "cell_type": "code",
   "execution_count": null,
   "metadata": {},
   "outputs": [],
   "source": [
    "ready_db_kor = ready_db5.loc[(ready_db5['Pays'] == 'Korea Republic of')]\n",
    "\n",
    "# Représentation des leviers\n",
    "plt.figure(figsize=(15,15))\n",
    "\n",
    "# Individus entre le seuil mini et le seuil maxi\n",
    "plt.bar(ready_db_kor.loc[(ready_db_kor['rstudent'] <= seuil_rstudent) & (ready_db_kor['rstudent'] >= -seuil_rstudent)].index,\n",
    "        ready_db_kor.loc[(ready_db_kor['rstudent'] <= seuil_rstudent) & (ready_db_kor['rstudent'] >= -seuil_rstudent)]['rstudent'], color='g')\n",
    "\n",
    "# Individus au dessus du seuil maxi\n",
    "plt.bar(ready_db_kor.loc[ready_db_kor['rstudent'] > seuil_rstudent].index,\n",
    "        ready_db_kor.loc[ready_db_kor['rstudent'] > seuil_rstudent]['rstudent'], color='r')\n",
    "\n",
    "# Individus au dessous du seuil maxi\n",
    "plt.bar(ready_db_kor.loc[ready_db_kor['rstudent'] < -seuil_rstudent].index,\n",
    "        ready_db_kor.loc[ready_db_kor['rstudent'] < -seuil_rstudent]['rstudent'], color='r')\n",
    "\n",
    "# Décoration et annotations\n",
    "plt.title('Représentation des résidus studentisés\\npour la république de Corée', fontsize=22)\n",
    "plt.xlabel('Classes parents', fontsize=18)\n",
    "plt.xticks(fontsize=16)\n",
    "plt.ylim(-10,10)\n",
    "plt.yticks(fontsize=16)\n",
    "plt.ylabel('Résidus studentisés', fontsize=18)\n",
    "\n",
    "plt.axhline(y=seuil_rstudent, color='b', linestyle='-')\n",
    "plt.text(5650, 2.5 , 'Seuil rstudent', fontsize = '18', color='b')\n",
    "\n",
    "plt.axhline(y=-seuil_rstudent, color='b', linestyle='-')\n",
    "plt.text(5650, -2.5 , '-Seuil rstudent', fontsize = '18', color='b')\n",
    "\n",
    "plt.tight_layout()\n",
    "\n",
    "plt.savefig('graphiques/Representation_des_residus_studentises_pour_la_republique_de_Coree.png')\n",
    "plt.show()"
   ]
  },
  {
   "cell_type": "code",
   "execution_count": null,
   "metadata": {},
   "outputs": [],
   "source": [
    "# Nombre de valeurs atypiques sur les variables à expliquer\n",
    "res_stu_ln = ready_db5.loc[(ready_db5['rstudent'] > seuil_rstudent) |\n",
    "                             (ready_db5['rstudent'] < -seuil_rstudent)]\n",
    "\n",
    "len(res_stu_ln)"
   ]
  },
  {
   "cell_type": "code",
   "execution_count": null,
   "metadata": {
    "scrolled": false
   },
   "outputs": [],
   "source": [
    "# Pays presentants des valeurs atypiques\n",
    "ready_db5.loc[ready_db5.index.isin(res_stu_ln.index)].groupby(by='Pays').count().sort_values(by='y_child',\n",
    "                                                                                             ascending=False).head(8)"
   ]
  },
  {
   "cell_type": "markdown",
   "metadata": {},
   "source": [
    "#### Analyse de l'influence des observations"
   ]
  },
  {
   "cell_type": "markdown",
   "metadata": {},
   "source": [
    "Lorsque l'on réalise une régression, il convient aussi d'étudier l'influence sur les variables explicatives.  \n",
    "\n",
    "L'influence c'est déterminer l'importance sur la régression, la participation au modèle d'un individu"
   ]
  },
  {
   "cell_type": "markdown",
   "metadata": {},
   "source": [
    "[Haut de page](#sommaire)"
   ]
  },
  {
   "cell_type": "code",
   "execution_count": null,
   "metadata": {},
   "outputs": [],
   "source": [
    "# Création du dataframe avec tous les resultats d'influences disponibles\n",
    "influence_ln = reg_multi_ln.get_influence().summary_frame()\n",
    "influence_ln.head()"
   ]
  },
  {
   "cell_type": "code",
   "execution_count": null,
   "metadata": {},
   "outputs": [],
   "source": [
    "# Ajout de la colonne distance de Cook à notre dataframe analyses_ln\n",
    "ready_db2['dcooks'] = influence_ln['cooks_d']\n",
    "\n",
    "# Seuil d'influence selon Cook\n",
    "seuil_dcook = 4/(n-p)\n",
    "\n",
    "ready_db2.sort_values(by='dcooks').head()"
   ]
  },
  {
   "cell_type": "code",
   "execution_count": null,
   "metadata": {},
   "outputs": [],
   "source": [
    "ready_db2.sort_values(by='dcooks').tail()"
   ]
  },
  {
   "cell_type": "code",
   "execution_count": null,
   "metadata": {},
   "outputs": [],
   "source": [
    "ready_db6 = ready_db2.groupby(['Pays', 'mj', 'Gj', 'pj', 'ln_mj', 'dcooks']).mean()\n",
    "ready_db6.reset_index(inplace=True)\n",
    "\n",
    "# Représentation de la distances de Cooks\n",
    "plt.figure(figsize=(15,15))\n",
    "\n",
    "# Individus sous le seuil\n",
    "plt.bar(ready_db6.loc[ready_db6['dcooks'] <= seuil_dcook].index,\n",
    "        ready_db6.loc[ready_db6['dcooks'] <= seuil_dcook]['dcooks'],\n",
    "       color='g')\n",
    "\n",
    "# Individus au dessus le seuil\n",
    "plt.bar(ready_db6.loc[ready_db6['dcooks'] > seuil_dcook].index,\n",
    "        ready_db6.loc[ready_db6['dcooks'] > seuil_dcook]['dcooks'],\n",
    "       color='r')\n",
    "\n",
    "# Décoration et annotations\n",
    "plt.title('Représentation de la distance de Cook', fontsize=22)\n",
    "plt.ylabel('Distance de Cook', fontsize=18)\n",
    "plt.yticks(fontsize=16)\n",
    "plt.xticks(fontsize=16)\n",
    "\n",
    "plt.text(-400, (seuil_dcook + 0.00005), 'Seuil de Cook', fontsize = '18', color='b')\n",
    "plt.axhline(y=seuil_dcook, color='b', linestyle='-')\n",
    "\n",
    "plt.tight_layout()\n",
    "\n",
    "plt.savefig('graphiques/Representation_de_la_distance_de_Cook.png')\n",
    "plt.show()"
   ]
  },
  {
   "cell_type": "code",
   "execution_count": null,
   "metadata": {},
   "outputs": [],
   "source": [
    "ready_db_saf1 = ready_db6.loc[ready_db6['Pays'] == 'South Africa']\n",
    "ready_db_saf1.reset_index(inplace=True)\n",
    "\n",
    "# Représentation de la distances de Cooks\n",
    "plt.figure(figsize=(15,15))\n",
    "\n",
    "# Individus sous le seuil\n",
    "plt.bar(ready_db_saf1.loc[ready_db_saf1['dcooks'] <= seuil_dcook].index,\n",
    "        ready_db_saf1.loc[ready_db_saf1['dcooks'] <= seuil_dcook]['dcooks'],\n",
    "       color='g')\n",
    "\n",
    "# Individus au dessus le seuil\n",
    "plt.bar(ready_db_saf1.loc[ready_db_saf1['dcooks'] > seuil_dcook].index,\n",
    "        ready_db_saf1.loc[ready_db_saf1['dcooks'] > seuil_dcook]['dcooks'],\n",
    "       color='r')\n",
    "\n",
    "# Décoration et annotations\n",
    "plt.title('Représentation de la distance de Cook\\npour l\\'Afrique du Sud', fontsize=22)\n",
    "plt.ylabel('Distance de Cook', fontsize=18)\n",
    "plt.ylim(0,0.011)\n",
    "plt.yticks(fontsize=16)\n",
    "plt.xticks(fontsize=16)\n",
    "\n",
    "plt.text(20, (seuil_dcook + 0.00005), 'Seuil de Cook', fontsize = '18', color='b')\n",
    "plt.axhline(y=seuil_dcook, color='b', linestyle='-')\n",
    "\n",
    "plt.tight_layout()\n",
    "\n",
    "plt.savefig('graphiques/Representation_de_la_distance_de_Cook_pour_l_Afrique_du_Sud.png')\n",
    "plt.show()"
   ]
  },
  {
   "cell_type": "code",
   "execution_count": null,
   "metadata": {},
   "outputs": [],
   "source": [
    "ready_db_hon1 = ready_db6.loc[ready_db6['Pays'] == 'Honduras']\n",
    "ready_db_hon1.reset_index(inplace=True)\n",
    "\n",
    "# Représentation de la distances de Cooks\n",
    "plt.figure(figsize=(15,15))\n",
    "\n",
    "# Individus sous le seuil\n",
    "plt.bar(ready_db_hon1.loc[ready_db_hon1['dcooks'] <= seuil_dcook].index,\n",
    "        ready_db_hon1.loc[ready_db_hon1['dcooks'] <= seuil_dcook]['dcooks'],\n",
    "       color='g')\n",
    "\n",
    "# Individus au dessus le seuil\n",
    "plt.bar(ready_db_hon1.loc[ready_db_hon1['dcooks'] > seuil_dcook].index,\n",
    "        ready_db_hon1.loc[ready_db_hon1['dcooks'] > seuil_dcook]['dcooks'],\n",
    "       color='r')\n",
    "\n",
    "# Décoration et annotations\n",
    "plt.title('Représentation de la distance de Cook\\npour le Honduras', fontsize=22)\n",
    "plt.ylabel('Distance de Cook', fontsize=18)\n",
    "plt.ylim(0,0.011)\n",
    "plt.yticks(fontsize=16)\n",
    "plt.xticks(fontsize=16)\n",
    "\n",
    "plt.text(20, (seuil_dcook + 0.00005), 'Seuil de Cook', fontsize = '18', color='b')\n",
    "plt.axhline(y=seuil_dcook, color='b', linestyle='-')\n",
    "\n",
    "plt.tight_layout()\n",
    "\n",
    "plt.savefig('graphiques/Representation_de_la_distance_de_Cook_pour_le_honduras.png')\n",
    "plt.show()"
   ]
  },
  {
   "cell_type": "code",
   "execution_count": null,
   "metadata": {},
   "outputs": [],
   "source": [
    "# Nombre d'observations influentes\n",
    "dco_ln = ready_db2.loc[ready_db2['dcooks'] > seuil_dcook]\n",
    "len(dco_ln)"
   ]
  },
  {
   "cell_type": "code",
   "execution_count": null,
   "metadata": {
    "scrolled": false
   },
   "outputs": [],
   "source": [
    "# Pays présentants des obervations au dela du seuil\n",
    "ready_db6.loc[ready_db6.index.isin(dco_ln.index)].groupby(by='Pays').count().sort_values(by='y_child',\n",
    "                                                                                         ascending=False).head(10)"
   ]
  },
  {
   "cell_type": "markdown",
   "metadata": {},
   "source": [
    "#### Mesures atypiques et influentes"
   ]
  },
  {
   "cell_type": "markdown",
   "metadata": {},
   "source": [
    "Les points problèmatique lors d'une régression, sont les points à la fois atypique et influent."
   ]
  },
  {
   "cell_type": "markdown",
   "metadata": {},
   "source": [
    "[Haut de page](#sommaire)"
   ]
  },
  {
   "cell_type": "code",
   "execution_count": null,
   "metadata": {},
   "outputs": [],
   "source": [
    "ready_db2.head()"
   ]
  },
  {
   "cell_type": "code",
   "execution_count": null,
   "metadata": {},
   "outputs": [],
   "source": [
    "# Obeservations atypiques et influentes\n",
    "ind_aty_infl_ln = ready_db2.loc[((ready_db2['dcooks'] > seuil_dcook) &\n",
    "                                  (ready_db2['rstudent'] > seuil_rstudent) &\n",
    "                                  (ready_db2['levier'] > seuil_levier)) |\n",
    "                                  ((ready_db2['dcooks'] > seuil_dcook) &\n",
    "                                  (ready_db2['rstudent'] < -seuil_rstudent) &\n",
    "                                  (ready_db2['levier'] > seuil_levier))]\n",
    "len(ind_aty_infl_ln)"
   ]
  },
  {
   "cell_type": "code",
   "execution_count": null,
   "metadata": {},
   "outputs": [],
   "source": [
    "# Pays contenants les observations influentes et atypiques\n",
    "susp_pt = ready_db2.loc[ready_db2.index.isin(ind_aty_infl_ln.index)]\n",
    "susp_pt.reset_index(inplace=True)\n",
    "susp_pt.groupby('Pays').count()"
   ]
  },
  {
   "cell_type": "markdown",
   "metadata": {},
   "source": [
    "**Concluion:** Seul deux pays sont concernés par des problèmes et d'atypicité et d'influence. Et seulement pour une partie (- de 30%) de leur observations. Notre régression est donc valable."
   ]
  },
  {
   "cell_type": "markdown",
   "metadata": {},
   "source": [
    "#### Détection des problèmes de colinéarité"
   ]
  },
  {
   "cell_type": "markdown",
   "metadata": {},
   "source": [
    "Pour régression, les variables doivent être non colinéaires, sinon, il n'existe pas de solution unique au problème."
   ]
  },
  {
   "cell_type": "markdown",
   "metadata": {},
   "source": [
    "[Haut de page](#sommaire)"
   ]
  },
  {
   "cell_type": "code",
   "execution_count": null,
   "metadata": {},
   "outputs": [],
   "source": [
    "# Facteur d'influence de la variance (Variance Inflation Factor)\n",
    "mat_cor = np.corrcoef(ready_db2.ln_mj, ready_db2.Gj)\n",
    "print(f\"VIF: {1 / (1-(mat_cor[0,1]**2)):.2f} pour une corrélation de {mat_cor[0,1]:.2f} entre nos variables explicatives\")"
   ]
  },
  {
   "cell_type": "markdown",
   "metadata": {},
   "source": [
    "* VIF_Gj et VIF_ln_y_child_moy < 10 (ou même 5)   \n",
    "**Nous n'avons pas de problème de colinéarité**"
   ]
  },
  {
   "cell_type": "markdown",
   "metadata": {},
   "source": [
    "#### Test d'homoscédasticité"
   ]
  },
  {
   "cell_type": "markdown",
   "metadata": {},
   "source": [
    "Pour que notre régression soit valable, il faut que la variance de nos résidus soit uniforme.  \n",
    "Il faut qu'il y ait une homoscedasticité de nos résidus."
   ]
  },
  {
   "cell_type": "markdown",
   "metadata": {},
   "source": [
    "[Haut de page](#sommaire)"
   ]
  },
  {
   "cell_type": "code",
   "execution_count": null,
   "metadata": {},
   "outputs": [],
   "source": [
    "_, pval, __, f_pval = statsmodels.stats.diagnostic.het_breuschpagan(reg_multi_ln.resid, reg_multi_ln.model.exog)\n",
    "print(f\"p-value du test Breusch Pagan: {pval}\")"
   ]
  },
  {
   "cell_type": "markdown",
   "metadata": {},
   "source": [
    "H0: Homoscédasticité  \n",
    "H1: Hétéroscédasticité  \n",
    "p-value <<< ${\\alpha}$, rejet de H0, il y a hétéroscédasticité des residus  \n",
    "Encore une fois, le modèle de regression linéaire multiple est suffisamment robuste pour les grands échantillons. Comme dans notre cas.  \n",
    "Plus on a de données à disposition, plus le modèle est capable de supporter des écarts important aux hypothèse (gaussienne et homoscédastique)"
   ]
  },
  {
   "cell_type": "code",
   "execution_count": null,
   "metadata": {},
   "outputs": [],
   "source": [
    "# Représentation des résidus en fonction des valeurs prédites\n",
    "plt.figure(figsize=(6,6))\n",
    "\n",
    "plt.scatter(reg_multi_ln.resid, reg_multi_ln.predict())\n",
    "\n",
    "plt.ylabel('Résidus')\n",
    "plt.xlabel('Valeurs prédites')\n",
    "plt.title('Nuage de point des residus\\n en fonction des valeurs prédites')\n",
    "\n",
    "plt.savefig('graphiques/homoscedasticite.png')\n",
    "plt.show()"
   ]
  },
  {
   "cell_type": "markdown",
   "metadata": {},
   "source": [
    "#### Test de normalité des résidus"
   ]
  },
  {
   "cell_type": "markdown",
   "metadata": {},
   "source": [
    "[Haut de page](#sommaire)"
   ]
  },
  {
   "cell_type": "code",
   "execution_count": null,
   "metadata": {},
   "outputs": [],
   "source": [
    "# Préparation des données\n",
    "X_ln = reg_multi_ln.resid\n",
    "Xbar_ln = np.mean(X_ln)\n",
    "Xsprime_ln = np.std(X_ln)\n",
    "\n",
    "# Test d'adequation à une loi (ici Normale) avec le test Kolmogorv-Smirnov\n",
    "ks_2samp(reg_multi_ln.resid, list(np.random.normal(Xbar_ln, Xsprime_ln, 11_600)))"
   ]
  },
  {
   "cell_type": "markdown",
   "metadata": {},
   "source": [
    "H0: Les données suivent une loi normale  \n",
    "H1: Les données ne suivent pas une loi normale  \n",
    "p-value <<< 0.05, on rejette H0, y_child ne suit pas une loi normale"
   ]
  },
  {
   "cell_type": "code",
   "execution_count": null,
   "metadata": {},
   "outputs": [],
   "source": [
    "# Test de Jarque-Bera (test de normalité basé sur le kurtosis et le skewness)\n",
    "JB_ln, JBpv_ln, skw_ln, kurt_ln = sm.stats.stattools.jarque_bera(reg_multi_ln.resid)\n",
    "print(f\"p-value: {JBpv_ln}\")"
   ]
  },
  {
   "cell_type": "markdown",
   "metadata": {},
   "source": [
    "H0: Les données suivent une loi normale  \n",
    "H1: Les données ne suivent pas une loi normale  \n",
    "JBpv ~ 0, on rejette H0, d'après le test, les données ne suivent pas une loi normale"
   ]
  },
  {
   "cell_type": "code",
   "execution_count": null,
   "metadata": {},
   "outputs": [],
   "source": [
    "# Droite de Henry\n",
    "fig, ax = plt.subplots(figsize=(15, 15))\n",
    "\n",
    "sm.qqplot(reg_multi_ln.resid, line='45', fit=True, ax=ax)\n",
    "\n",
    "plt.ylabel('Quantiles de notre échantillon', fontsize=18)\n",
    "plt.yticks(fontsize=16)\n",
    "plt.xlabel('Quantiles d\\'une loi Normale', fontsize=18)\n",
    "plt.xticks(fontsize=16)\n",
    "plt.title('Droite de Henry')\n",
    "\n",
    "plt.tight_layout()\n",
    "\n",
    "plt.savefig('graphiques/droite_henry.png')\n",
    "plt.show()"
   ]
  },
  {
   "cell_type": "markdown",
   "metadata": {},
   "source": [
    "La droite de Henry represente la distribution empirique des residus et la distribution théorique d'une loi normale.  \n",
    "Sauf pour les valeurs faibles de nos résidus, nos residus semblent plutôt alignés avec la distribution théorique d'une loi normale."
   ]
  },
  {
   "cell_type": "code",
   "execution_count": null,
   "metadata": {},
   "outputs": [],
   "source": [
    "#Représentation de la distribution marginale\n",
    "plt.figure(figsize=(10,10,))\n",
    "\n",
    "plt.hist(X_ln, 100, facecolor='g',)\n",
    "plt.axvline(Xbar_ln, color='r', linewidth=2)\n",
    "\n",
    "plt.title(f'Distribution marginale des résidus', fontsize=22)\n",
    "plt.ylabel('Nombre', fontsize=18)\n",
    "plt.yticks(fontsize=16)\n",
    "plt.xlabel('Résidus', fontsize=18)\n",
    "plt.xticks(fontsize=16)\n",
    "\n",
    "plt.tight_layout()\n",
    "\n",
    "plt.savefig('graphiques/Distribution marginale des résidus_regression_1.png')\n",
    "plt.show()"
   ]
  },
  {
   "cell_type": "markdown",
   "metadata": {},
   "source": [
    "<a id='reg2'></a>\n",
    "### Régression linéaire du revenu enfant sur le revenu moyen du pays, l'indice de Gini et la classe de revenus des parents"
   ]
  },
  {
   "cell_type": "markdown",
   "metadata": {},
   "source": [
    "##### Tests de significativité"
   ]
  },
  {
   "cell_type": "markdown",
   "metadata": {},
   "source": [
    "[Haut de page](#sommaire)"
   ]
  },
  {
   "cell_type": "code",
   "execution_count": null,
   "metadata": {
    "scrolled": false
   },
   "outputs": [],
   "source": [
    "reg2 = smf.ols('y_child ~ Gj + mj + c_i_parent', data=ready_db1)\n",
    "reg_multi2 = reg2.fit()\n",
    "reg_multi2.summary().tables[0]"
   ]
  },
  {
   "cell_type": "markdown",
   "metadata": {},
   "source": [
    "**Test global:**  \n",
    "H0: ${\\beta_{GJ}}$ = ${\\beta_{mj}}$ = ${\\beta_{ci\\_parent}}$ = 0  \n",
    "H1: ${\\beta_{GJ}}$ != ${\\beta_{mj}}$ = ${\\beta_{ci\\_parent}}$ != 0  \n",
    "F ~ 0.00 <<< ${\\alpha}$, on rejette H0, le modèle est globalement significatif"
   ]
  },
  {
   "cell_type": "code",
   "execution_count": null,
   "metadata": {},
   "outputs": [],
   "source": [
    "reg_multi2.summary().tables[1]"
   ]
  },
  {
   "cell_type": "markdown",
   "metadata": {},
   "source": [
    " **Test de significativité:**\n",
    "   \n",
    "H0: ${\\beta_{GJ}}$ = 0  \n",
    "H1: ${\\beta_{GJ}}$ != 0  \n",
    "Le paramètre ${\\beta_{GJ}}$ de la variable Gj (indice de gini) n'est pas significatif au niveau de test ${\\alpha}$ (0.05)  \n",
    "En effet p-value ~ 1 > ${\\alpha}$, on accepte H0, le paramètre n'est pas significatif (${\\beta_{GJ}}$ = 0)  \n",
    "  \n",
    "H0: ${\\beta_{mj}}$ = 0  \n",
    "H1: ${\\beta_{mj}}$ != 0  \n",
    "Le paramètre ${\\beta_{mj}}$ de la variable mj est significatif au niveau de test ${\\alpha}$ (0.05)  \n",
    "En effet p-value ~ 0.00 <<< ${\\alpha}$, on rejette H0, le paramètre est significatif (${\\beta_{mj}}$ != 0)  \n",
    "  \n",
    "H0: ${\\beta_{ci\\_parent}}$ = 0  \n",
    "H1: ${\\beta_{ci\\_parent}}$ != 0  \n",
    "Le paramètre ${\\beta_{ci\\_parent}}$ de la variable c_i_parent est significatif au niveau de test ${\\alpha}$ (0.05)  \n",
    "En effet p-value ~ 0.00 <<< ${\\alpha}$, on rejette H0, le paramètre est significatif (${\\beta_{ci\\_parent}}$ != 0) "
   ]
  },
  {
   "cell_type": "markdown",
   "metadata": {},
   "source": [
    "#### Passage au logarithme du revenu enfant"
   ]
  },
  {
   "cell_type": "markdown",
   "metadata": {},
   "source": [
    "[Haut de page](#sommaire)"
   ]
  },
  {
   "cell_type": "code",
   "execution_count": null,
   "metadata": {},
   "outputs": [],
   "source": [
    "reg_ln2 = smf.ols('ln_y_child ~ Gj + ln_mj + c_i_parent', data=ready_db1)\n",
    "reg_multi_ln2 = reg_ln2.fit()\n",
    "\n",
    "reg_multi_ln2.summary().tables[0]"
   ]
  },
  {
   "cell_type": "markdown",
   "metadata": {},
   "source": [
    "**Test global:**  \n",
    "H0: ${\\beta_{GJ}}$ = ${\\beta_{ln\\_mj}}$ = ${\\beta_{ci\\_parent}}$ = 0  \n",
    "H1: ${\\beta_{GJ}}$ != ${\\beta_{ln\\_mj}}$ = ${\\beta_{ci\\_parent}}$ != 0  \n",
    "F ~ 0.00 <<< ${\\alpha}$, on rejette H0, le modèle est globalement significatif"
   ]
  },
  {
   "cell_type": "code",
   "execution_count": null,
   "metadata": {},
   "outputs": [],
   "source": [
    "reg_multi_ln2.summary().tables[1]"
   ]
  },
  {
   "cell_type": "markdown",
   "metadata": {},
   "source": [
    "**Test de significativité:**\n",
    "   \n",
    "H0: ${\\beta_{GJ}}$ = 0  \n",
    "H1: ${\\beta_{GJ}}$ != 0  \n",
    "Le paramètre ${\\beta_{GJ}}$ de la variable Gj (indice de gini) n'est pas significatif au niveau de test ${\\alpha}$ (0.05)  \n",
    "En effet p-value ~ 0<<< ${\\alpha}$, on rejette H0, le paramètre est significatif (${\\beta_{GJ}}$ = 0)  \n",
    "  \n",
    "H0: ${\\beta_{ln\\_mj}}$ = 0  \n",
    "H1: ${\\beta_{ln\\_mj}}$ != 0  \n",
    "Le paramètre ${\\beta_{ln\\_mj}}$ de la variable ln_mj est significatif au niveau de test ${\\alpha}$ (0.05)  \n",
    "En effet p-value ~ 0.00 <<< ${\\alpha}$, on rejette H0, le paramètre est significatif (${\\beta_{ln\\_mj}}$ != 0)  \n",
    "  \n",
    "H0: ${\\beta_{ci\\_parent}}$ = 0  \n",
    "H1: ${\\beta_{ci\\_parent}}$ != 0  \n",
    "Le paramètre ${\\beta_{ci\\_parent}}$ de la variable c_i_parent est significatif au niveau de test ${\\alpha}$ (0.05)  \n",
    "En effet p-value ~ 0.00 <<< ${\\alpha}$, on rejette H0, le paramètre est significatif (${\\beta_{ci\\_parent}}$ != 0)  "
   ]
  },
  {
   "cell_type": "markdown",
   "metadata": {},
   "source": [
    "#### Analyses de $R^2$"
   ]
  },
  {
   "cell_type": "markdown",
   "metadata": {},
   "source": [
    "[Haut de page](#sommaire)"
   ]
  },
  {
   "cell_type": "code",
   "execution_count": null,
   "metadata": {},
   "outputs": [],
   "source": [
    "# Anova sur notre régression linéaire\n",
    "anova2 = sm.stats.anova_lm(reg_multi_ln2, typ=1)\n",
    "anova2"
   ]
  },
  {
   "cell_type": "code",
   "execution_count": null,
   "metadata": {},
   "outputs": [],
   "source": [
    "# Calcul du R2 pour la variable 'c_i_parent'\n",
    "r2_c_i_parent = anova2.iloc[2,1] / anova2['sum_sq'].sum()\n",
    "r2_c_i_parent"
   ]
  },
  {
   "cell_type": "code",
   "execution_count": null,
   "metadata": {},
   "outputs": [],
   "source": [
    "# Vérification\n",
    "r2_Gj + r2_ln_mj + r2_c_i_parent, reg_multi_ln2.rsquared"
   ]
  },
  {
   "cell_type": "code",
   "execution_count": null,
   "metadata": {},
   "outputs": [],
   "source": [
    "print(f'Dans notre modèle:\\n\\n\\\n",
    "La variable \\'Gj\\' explique {100 * r2_Gj:.2f}% de la variance de la variable \\'ln_y_child\\'\\n\\n\\\n",
    "La variable \\'ln_y_child_moy\\' explique {100 * r2_ln_mj:.2f}% de la variance de la variable \\'ln_y_child\\'\\n\\n\\\n",
    "La variable \\'c_i_parent\\' explique {100 * r2_c_i_parent:.2f}% de la variance de la variable \\'ln_y_child\\'\\n\\n\\\n",
    "Notre modèle explique {100 * reg_multi_ln2.rsquared:.2f}% de la variance de la variable \\'ln_y_child\\'')"
   ]
  },
  {
   "cell_type": "markdown",
   "metadata": {},
   "source": [
    "#### Détection des problèmes de colinéarité"
   ]
  },
  {
   "cell_type": "markdown",
   "metadata": {},
   "source": [
    "[Haut de page](#sommaire)"
   ]
  },
  {
   "cell_type": "code",
   "execution_count": null,
   "metadata": {},
   "outputs": [],
   "source": [
    "# Facteur d'influence de la variance (Variance Inflation Factor)\n",
    "variables_ln2 = reg_multi_ln2.model.exog\n",
    "[variance_inflation_factor(variables_ln2, i) for i in np.arange(1,variables_ln2.shape[1])]"
   ]
  },
  {
   "cell_type": "markdown",
   "metadata": {},
   "source": [
    " * VIF_Gj et VIF_ln_y_child_moy < 10 (ou 5)  \n",
    "Pas de problème de colinéarité"
   ]
  },
  {
   "cell_type": "markdown",
   "metadata": {},
   "source": [
    "#### Test d'homoscédasticité"
   ]
  },
  {
   "cell_type": "markdown",
   "metadata": {},
   "source": [
    "[Haut de page](#sommaire)"
   ]
  },
  {
   "cell_type": "code",
   "execution_count": null,
   "metadata": {},
   "outputs": [],
   "source": [
    "_, pval2, __, f_pval2 = statsmodels.stats.diagnostic.het_breuschpagan(reg_multi_ln2.resid, variables_ln2)\n",
    "print('p value test Breusch Pagan:', pval2)"
   ]
  },
  {
   "cell_type": "markdown",
   "metadata": {},
   "source": [
    "H0: Homoscédasticité  \n",
    "H1: Hétéroscédasticité  \n",
    "pvalue <<< ${\\alpha}$, rejet de H0, il y a hétéroscédasticité des residus  \n",
    "Toutefois, le modèle de regression linéaire multiple est robuste pour les grands échantillon. 5_800_000 ici, c'est notre cas.  \n",
    "Plus on a de données à disposition, plus le modèle est capable de supporter des écarts important aux hypothèse (gaussienne et homoscédastique)"
   ]
  },
  {
   "cell_type": "code",
   "execution_count": null,
   "metadata": {},
   "outputs": [],
   "source": [
    "# Représentation des résidus en fonction des valeurs prédites\n",
    "plt.figure(figsize=(6,6))\n",
    "\n",
    "plt.scatter(reg_multi_ln2.resid, reg_multi_ln2.predict())\n",
    "\n",
    "plt.ylabel('Résidus')\n",
    "plt.xlabel('Valeurs prédites')\n",
    "plt.title('Nuage de point des residus\\n en fonction des valeurs prédites')\n",
    "\n",
    "plt.savefig('graphiques/homoscedasticite_regression_2.png')\n",
    "plt.show()"
   ]
  },
  {
   "cell_type": "markdown",
   "metadata": {},
   "source": [
    "#### Test de normalité des résidus"
   ]
  },
  {
   "cell_type": "markdown",
   "metadata": {},
   "source": [
    "[Haut de page](#sommaire)"
   ]
  },
  {
   "cell_type": "code",
   "execution_count": null,
   "metadata": {},
   "outputs": [],
   "source": [
    "# Test d'adequation à une loi (ici Normale) avec le test Kolmogorv-Smirnov\n",
    "X_ln2 = reg_multi_ln2.resid\n",
    "Xbar_ln2 = np.mean(X_ln2)\n",
    "Xsprime_ln2 = np.std(X_ln2)\n",
    "\n",
    "ks_2samp(reg_multi_ln2.resid, list(np.random.normal(Xbar_ln2, Xsprime_ln2, 5_800_000)))"
   ]
  },
  {
   "cell_type": "markdown",
   "metadata": {},
   "source": [
    "H0: Les données suivent une loi normale  \n",
    "H1: Les données ne suivent pas une loi normale  \n",
    "p-value <<< 0.05, on rejette H0, y_child ne suit pas une loi normale"
   ]
  },
  {
   "cell_type": "code",
   "execution_count": null,
   "metadata": {},
   "outputs": [],
   "source": [
    "# Test de Jarque-Bera (test de normalité basé sur le kurtosis et le skewness)\n",
    "JB_ln1, JBpv_ln1, skw_ln1, kurt_ln1 = sm.stats.stattools.jarque_bera(reg_multi_ln2.resid)\n",
    "print(f\"p-value: {JBpv_ln1}\")"
   ]
  },
  {
   "cell_type": "markdown",
   "metadata": {},
   "source": [
    "H0: Les données suivent une loi normale  \n",
    "H1: Les données ne suivent pas une loi normale  \n",
    "JBpv ~ 0, on rejette H0, d'après le test, les données ne suivent pas une loi normale"
   ]
  },
  {
   "cell_type": "code",
   "execution_count": null,
   "metadata": {},
   "outputs": [],
   "source": [
    "# Droite de Henry\n",
    "fig, ax = plt.subplots(figsize=(15, 15))\n",
    "\n",
    "sm.qqplot(X_ln2, line='45', fit=True, ax=ax)\n",
    "\n",
    "plt.ylabel('Quantiles de notre échantillon',fontsize=18)\n",
    "plt.yticks(fontsize=16)\n",
    "plt.xlabel('Quantiles d\\'une loi Normale',fontsize=18)\n",
    "plt.xticks(fontsize=16)\n",
    "plt.title('Droite de Henry',fontsize=22)\n",
    "\n",
    "plt.tight_layout()\n",
    "\n",
    "plt.savefig('graphiques/droite_henry_regression_2.png')\n",
    "plt.show()"
   ]
  },
  {
   "cell_type": "code",
   "execution_count": null,
   "metadata": {},
   "outputs": [],
   "source": [
    "#Représentation de la distribution marginale\n",
    "plt.figure(figsize=(10,10))\n",
    "\n",
    "plt.hist(X_ln2, 100, facecolor='g')\n",
    "plt.axvline(Xbar_ln2, color='r', linewidth=2)\n",
    "\n",
    "plt.title(f'Distribution marginale des résidus', fontsize=22)\n",
    "plt.ylabel('Nombre',fontsize=18)\n",
    "plt.yticks(fontsize=16)\n",
    "plt.xlabel('Résidus', fontsize=18)\n",
    "plt.xticks(fontsize=16)\n",
    "\n",
    "plt.tight_layout()\n",
    "\n",
    "plt.savefig('graphiques/Distribution_marginale_des_residus_regression_2.png')\n",
    "plt.show()"
   ]
  },
  {
   "cell_type": "markdown",
   "metadata": {},
   "source": [
    "<a id='ccl'></a>\n",
    "## Conclusion"
   ]
  },
  {
   "cell_type": "markdown",
   "metadata": {},
   "source": [
    "[Haut de page](#sommaire)"
   ]
  },
  {
   "cell_type": "code",
   "execution_count": null,
   "metadata": {},
   "outputs": [],
   "source": [
    "aic = [anova_pays.aic, reg_multi_ln.aic, reg_multi_ln2.aic, ]\n",
    "bic = [anova_pays.bic, reg_multi_ln.bic, reg_multi_ln2.bic, ]\n",
    "R2 = [100 * anova_pays.rsquared, 100 * reg_multi_ln.rsquared, 100 * reg_multi_ln2.rsquared, ]\n",
    "model_ccl = pd.DataFrame({'AIC': aic,\n",
    "                          'BIC': bic,\n",
    "                          'R2': R2},\n",
    "                        index= ['ANOVA', 'Reg_mj_Gj', 'Reg_mj_Gj_Cip'])\n",
    "\n",
    "model_ccl = model_ccl[['AIC', 'BIC', 'R2']].round(1)\n",
    "\n",
    "model_ccl"
   ]
  },
  {
   "cell_type": "markdown",
   "metadata": {},
   "source": [
    "En étudiant l’information de kullback:\n",
    "-AIC (Akaike Information Criturium)\n",
    "-BIC (Bayesian Information Criterium - Schwarz Bayesian Criterium)\n",
    "Nous conservons le modèle régression sur le revenu moyen et l’indice de Gini.\n",
    "C’est le modèle avec le meilleur compromis entre l'ajustement du modèle (variance résiduelle faible) et qualité de prévision (nombre de variables explicatives faible, principe de parcimonie)"
   ]
  },
  {
   "cell_type": "markdown",
   "metadata": {},
   "source": [
    "[Haut de page](#sommaire)"
   ]
  },
  {
   "cell_type": "markdown",
   "metadata": {},
   "source": [
    "**Bonus:** La courbe de Gatsby le magnifique (Greg Mankiv) permet de visualiser la corrélation entre la distribution des revenus et la mobilité intergénérationnelle."
   ]
  },
  {
   "cell_type": "code",
   "execution_count": null,
   "metadata": {},
   "outputs": [],
   "source": [
    "# Préparation des données\n",
    "y = ready_db2.Gj\n",
    "x = ready_db2.pj\n",
    "\n",
    "# Calcul du coefficient de corrélation\n",
    "pear = scipy.stats.pearsonr(x,y)[0]\n",
    "\n",
    "# Cacul des paramètres\n",
    "slope, intercept, _, __, ___ = scipy.stats.linregress(x, y)\n",
    "\n",
    "# Droite de régression\n",
    "fitLine = slope * x + intercept\n",
    "\n",
    "# Courbe de Gatsby\n",
    "plt.figure(figsize=(10,10))\n",
    "plt.plot(x, fitLine, c='g')\n",
    "plt.scatter(x, y, c='g')\n",
    "plt.text(0.45, 0.1, f'Coefficient de corrélation: {pear:.2}', color='r', fontsize=18)\n",
    "\n",
    "# Décoration\n",
    "plt.title('Courbe de Gatsby', fontsize=22)\n",
    "plt.ylabel('Incide de Gini', fontsize=18)\n",
    "plt.ylim(0, 1)\n",
    "plt.yticks(fontsize=16)\n",
    "plt.xlabel('Coefficient d\\'élasticité', fontsize=18)\n",
    "plt.xticks(fontsize=16)\n",
    "plt.xlim(0, 1)\n",
    "\n",
    "\n",
    "\n",
    "plt.savefig('graphiques/courbe_gatsby.png')\n",
    "plt.show()"
   ]
  }
 ],
 "metadata": {
  "kernelspec": {
   "display_name": "Python 3",
   "language": "python",
   "name": "python3"
  },
  "language_info": {
   "codemirror_mode": {
    "name": "ipython",
    "version": 3
   },
   "file_extension": ".py",
   "mimetype": "text/x-python",
   "name": "python",
   "nbconvert_exporter": "python",
   "pygments_lexer": "ipython3",
   "version": "3.8.1"
  },
  "toc": {
   "base_numbering": 1,
   "nav_menu": {},
   "number_sections": true,
   "sideBar": true,
   "skip_h1_title": false,
   "title_cell": "Table of Contents",
   "title_sidebar": "Contents",
   "toc_cell": false,
   "toc_position": {},
   "toc_section_display": true,
   "toc_window_display": true
  }
 },
 "nbformat": 4,
 "nbformat_minor": 2
}
